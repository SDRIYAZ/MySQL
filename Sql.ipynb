{
 "cells": [
  {
   "cell_type": "code",
   "execution_count": 1,
   "id": "be9d2dc3",
   "metadata": {},
   "outputs": [
    {
     "name": "stdout",
     "output_type": "stream",
     "text": [
      "Collecting mysql-connector-python\n",
      "  Downloading mysql_connector_python-8.0.30-cp39-cp39-win_amd64.whl (7.8 MB)\n",
      "Requirement already satisfied: protobuf<=3.20.1,>=3.11.0 in c:\\users\\sayya\\anaconda3\\lib\\site-packages (from mysql-connector-python) (3.19.1)\n",
      "Installing collected packages: mysql-connector-python\n",
      "Successfully installed mysql-connector-python-8.0.30\n"
     ]
    }
   ],
   "source": [
    "!pip install mysql-connector-python"
   ]
  },
  {
   "cell_type": "markdown",
   "id": "ab923188",
   "metadata": {},
   "source": [
    "# Creating a databases inside the mysql workbench\n",
    "1.Establish the connection \n",
    "2.create database using the pointer \n",
    "3.creating a table\n",
    "4."
   ]
  },
  {
   "cell_type": "code",
   "execution_count": 4,
   "id": "d64e0adf",
   "metadata": {},
   "outputs": [],
   "source": [
    "import mysql.connector as con"
   ]
  },
  {
   "cell_type": "code",
   "execution_count": 5,
   "id": "5cc542fc",
   "metadata": {},
   "outputs": [],
   "source": [
    "#    con.connect(host='url')  to connect database server\n",
    "mydb = con.connect(host='localhost',user=\"root\",passwd=\"Riyaz@4144\")"
   ]
  },
  {
   "cell_type": "code",
   "execution_count": 6,
   "id": "7f3be690",
   "metadata": {},
   "outputs": [
    {
     "data": {
      "text/plain": [
       "<mysql.connector.connection_cext.CMySQLConnection at 0x239849b20a0>"
      ]
     },
     "execution_count": 6,
     "metadata": {},
     "output_type": "execute_result"
    }
   ],
   "source": [
    "mydb"
   ]
  },
  {
   "cell_type": "code",
   "execution_count": 7,
   "id": "0a4cb35e",
   "metadata": {},
   "outputs": [],
   "source": [
    "query=\"show databases\"  #predefined query to show all databases "
   ]
  },
  {
   "cell_type": "code",
   "execution_count": 8,
   "id": "68702850",
   "metadata": {},
   "outputs": [],
   "source": [
    "cursor = mydb.cursor()\n",
    "cursor.execute(query)"
   ]
  },
  {
   "cell_type": "code",
   "execution_count": 9,
   "id": "8b704b9f",
   "metadata": {},
   "outputs": [
    {
     "data": {
      "text/plain": [
       "[('ineuron',),\n",
       " ('information_schema',),\n",
       " ('mysql',),\n",
       " ('performance_schema',),\n",
       " ('riyaz',),\n",
       " ('sys',)]"
      ]
     },
     "execution_count": 9,
     "metadata": {},
     "output_type": "execute_result"
    }
   ],
   "source": [
    "cursor.fetchall()\n"
   ]
  },
  {
   "cell_type": "markdown",
   "id": "d15ccbac",
   "metadata": {},
   "source": [
    "# 1.Establishing the connection"
   ]
  },
  {
   "cell_type": "code",
   "execution_count": 12,
   "id": "e5e36827",
   "metadata": {},
   "outputs": [],
   "source": [
    "#    con.connect(host='url')  to connect database server\n",
    "mydb = con.connect(host='localhost',user=\"root\",passwd=\"Riyaz@4144\")"
   ]
  },
  {
   "cell_type": "code",
   "execution_count": 13,
   "id": "bc056f19",
   "metadata": {},
   "outputs": [
    {
     "data": {
      "text/plain": [
       "<mysql.connector.connection_cext.CMySQLConnection at 0x239849b9a00>"
      ]
     },
     "execution_count": 13,
     "metadata": {},
     "output_type": "execute_result"
    }
   ],
   "source": [
    "mydb"
   ]
  },
  {
   "cell_type": "markdown",
   "id": "ebd7cb0d",
   "metadata": {},
   "source": [
    "# Creating database"
   ]
  },
  {
   "cell_type": "code",
   "execution_count": 31,
   "id": "b3a3797b",
   "metadata": {
    "scrolled": true
   },
   "outputs": [
    {
     "ename": "DatabaseError",
     "evalue": "1007 (HY000): Can't create database 'riyaz'; database exists",
     "output_type": "error",
     "traceback": [
      "\u001b[1;31m---------------------------------------------------------------------------\u001b[0m",
      "\u001b[1;31mMySQLInterfaceError\u001b[0m                       Traceback (most recent call last)",
      "\u001b[1;32m~\\anaconda3\\lib\\site-packages\\mysql\\connector\\connection_cext.py\u001b[0m in \u001b[0;36mcmd_query\u001b[1;34m(self, query, raw, buffered, raw_as_string)\u001b[0m\n\u001b[0;32m    554\u001b[0m                 \u001b[0mquery\u001b[0m \u001b[1;33m=\u001b[0m \u001b[0mquery\u001b[0m\u001b[1;33m.\u001b[0m\u001b[0mencode\u001b[0m\u001b[1;33m(\u001b[0m\u001b[1;34m\"utf-8\"\u001b[0m\u001b[1;33m)\u001b[0m\u001b[1;33m\u001b[0m\u001b[1;33m\u001b[0m\u001b[0m\n\u001b[1;32m--> 555\u001b[1;33m             self._cmysql.query(\n\u001b[0m\u001b[0;32m    556\u001b[0m                 \u001b[0mquery\u001b[0m\u001b[1;33m,\u001b[0m\u001b[1;33m\u001b[0m\u001b[1;33m\u001b[0m\u001b[0m\n",
      "\u001b[1;31mMySQLInterfaceError\u001b[0m: Can't create database 'riyaz'; database exists",
      "\nThe above exception was the direct cause of the following exception:\n",
      "\u001b[1;31mDatabaseError\u001b[0m                             Traceback (most recent call last)",
      "\u001b[1;32m~\\AppData\\Local\\Temp/ipykernel_23908/1074304454.py\u001b[0m in \u001b[0;36m<module>\u001b[1;34m\u001b[0m\n\u001b[0;32m      1\u001b[0m \u001b[0mcursor\u001b[0m \u001b[1;33m=\u001b[0m \u001b[0mmydb\u001b[0m\u001b[1;33m.\u001b[0m\u001b[0mcursor\u001b[0m\u001b[1;33m(\u001b[0m\u001b[1;33m)\u001b[0m\u001b[1;33m\u001b[0m\u001b[1;33m\u001b[0m\u001b[0m\n\u001b[1;32m----> 2\u001b[1;33m \u001b[0mcursor\u001b[0m\u001b[1;33m.\u001b[0m\u001b[0mexecute\u001b[0m\u001b[1;33m(\u001b[0m\u001b[1;34m\"create database Riyaz \"\u001b[0m\u001b[1;33m)\u001b[0m\u001b[1;33m\u001b[0m\u001b[1;33m\u001b[0m\u001b[0m\n\u001b[0m",
      "\u001b[1;32m~\\anaconda3\\lib\\site-packages\\mysql\\connector\\cursor_cext.py\u001b[0m in \u001b[0;36mexecute\u001b[1;34m(self, operation, params, multi)\u001b[0m\n\u001b[0;32m    274\u001b[0m \u001b[1;33m\u001b[0m\u001b[0m\n\u001b[0;32m    275\u001b[0m         \u001b[1;32mtry\u001b[0m\u001b[1;33m:\u001b[0m\u001b[1;33m\u001b[0m\u001b[1;33m\u001b[0m\u001b[0m\n\u001b[1;32m--> 276\u001b[1;33m             result = self._cnx.cmd_query(\n\u001b[0m\u001b[0;32m    277\u001b[0m                 \u001b[0mstmt\u001b[0m\u001b[1;33m,\u001b[0m\u001b[1;33m\u001b[0m\u001b[1;33m\u001b[0m\u001b[0m\n\u001b[0;32m    278\u001b[0m                 \u001b[0mraw\u001b[0m\u001b[1;33m=\u001b[0m\u001b[0mself\u001b[0m\u001b[1;33m.\u001b[0m\u001b[0m_raw\u001b[0m\u001b[1;33m,\u001b[0m\u001b[1;33m\u001b[0m\u001b[1;33m\u001b[0m\u001b[0m\n",
      "\u001b[1;32m~\\anaconda3\\lib\\site-packages\\mysql\\connector\\connection_cext.py\u001b[0m in \u001b[0;36mcmd_query\u001b[1;34m(self, query, raw, buffered, raw_as_string)\u001b[0m\n\u001b[0;32m    561\u001b[0m             )\n\u001b[0;32m    562\u001b[0m         \u001b[1;32mexcept\u001b[0m \u001b[0mMySQLInterfaceError\u001b[0m \u001b[1;32mas\u001b[0m \u001b[0merr\u001b[0m\u001b[1;33m:\u001b[0m\u001b[1;33m\u001b[0m\u001b[1;33m\u001b[0m\u001b[0m\n\u001b[1;32m--> 563\u001b[1;33m             raise get_mysql_exception(\n\u001b[0m\u001b[0;32m    564\u001b[0m                 \u001b[0merr\u001b[0m\u001b[1;33m.\u001b[0m\u001b[0merrno\u001b[0m\u001b[1;33m,\u001b[0m \u001b[0mmsg\u001b[0m\u001b[1;33m=\u001b[0m\u001b[0merr\u001b[0m\u001b[1;33m.\u001b[0m\u001b[0mmsg\u001b[0m\u001b[1;33m,\u001b[0m \u001b[0msqlstate\u001b[0m\u001b[1;33m=\u001b[0m\u001b[0merr\u001b[0m\u001b[1;33m.\u001b[0m\u001b[0msqlstate\u001b[0m\u001b[1;33m\u001b[0m\u001b[1;33m\u001b[0m\u001b[0m\n\u001b[0;32m    565\u001b[0m             ) from err\n",
      "\u001b[1;31mDatabaseError\u001b[0m: 1007 (HY000): Can't create database 'riyaz'; database exists"
     ]
    }
   ],
   "source": [
    "cursor = mydb.cursor()\n",
    "cursor.execute(\"create database Riyaz \")"
   ]
  },
  {
   "cell_type": "code",
   "execution_count": 32,
   "id": "30c5fa63",
   "metadata": {
    "scrolled": true
   },
   "outputs": [
    {
     "ename": "InterfaceError",
     "evalue": "No result set to fetch from",
     "output_type": "error",
     "traceback": [
      "\u001b[1;31m---------------------------------------------------------------------------\u001b[0m",
      "\u001b[1;31mInterfaceError\u001b[0m                            Traceback (most recent call last)",
      "\u001b[1;32m~\\AppData\\Local\\Temp/ipykernel_23908/589454993.py\u001b[0m in \u001b[0;36m<module>\u001b[1;34m\u001b[0m\n\u001b[1;32m----> 1\u001b[1;33m \u001b[0mcursor\u001b[0m\u001b[1;33m.\u001b[0m\u001b[0mfetchall\u001b[0m\u001b[1;33m(\u001b[0m\u001b[1;33m)\u001b[0m\u001b[1;33m\u001b[0m\u001b[1;33m\u001b[0m\u001b[0m\n\u001b[0m",
      "\u001b[1;32m~\\anaconda3\\lib\\site-packages\\mysql\\connector\\cursor_cext.py\u001b[0m in \u001b[0;36mfetchall\u001b[1;34m(self)\u001b[0m\n\u001b[0;32m    513\u001b[0m             \u001b[0mlist\u001b[0m\u001b[1;33m:\u001b[0m \u001b[0mA\u001b[0m \u001b[0mlist\u001b[0m \u001b[0mof\u001b[0m \u001b[0mtuples\u001b[0m \u001b[1;32mwith\u001b[0m \u001b[0mall\u001b[0m \u001b[0mrows\u001b[0m \u001b[0mof\u001b[0m \u001b[0ma\u001b[0m \u001b[0mquery\u001b[0m \u001b[0mresult\u001b[0m \u001b[0mset\u001b[0m\u001b[1;33m.\u001b[0m\u001b[1;33m\u001b[0m\u001b[1;33m\u001b[0m\u001b[0m\n\u001b[0;32m    514\u001b[0m         \"\"\"\n\u001b[1;32m--> 515\u001b[1;33m         \u001b[0mself\u001b[0m\u001b[1;33m.\u001b[0m\u001b[0m_check_executed\u001b[0m\u001b[1;33m(\u001b[0m\u001b[1;33m)\u001b[0m\u001b[1;33m\u001b[0m\u001b[1;33m\u001b[0m\u001b[0m\n\u001b[0m\u001b[0;32m    516\u001b[0m         \u001b[1;32mif\u001b[0m \u001b[1;32mnot\u001b[0m \u001b[0mself\u001b[0m\u001b[1;33m.\u001b[0m\u001b[0m_cnx\u001b[0m\u001b[1;33m.\u001b[0m\u001b[0munread_result\u001b[0m\u001b[1;33m:\u001b[0m\u001b[1;33m\u001b[0m\u001b[1;33m\u001b[0m\u001b[0m\n\u001b[0;32m    517\u001b[0m             \u001b[1;32mreturn\u001b[0m \u001b[1;33m[\u001b[0m\u001b[1;33m]\u001b[0m\u001b[1;33m\u001b[0m\u001b[1;33m\u001b[0m\u001b[0m\n",
      "\u001b[1;32m~\\anaconda3\\lib\\site-packages\\mysql\\connector\\cursor_cext.py\u001b[0m in \u001b[0;36m_check_executed\u001b[1;34m(self)\u001b[0m\n\u001b[0;32m    134\u001b[0m         \"\"\"\n\u001b[0;32m    135\u001b[0m         \u001b[1;32mif\u001b[0m \u001b[0mself\u001b[0m\u001b[1;33m.\u001b[0m\u001b[0m_executed\u001b[0m \u001b[1;32mis\u001b[0m \u001b[1;32mNone\u001b[0m\u001b[1;33m:\u001b[0m\u001b[1;33m\u001b[0m\u001b[1;33m\u001b[0m\u001b[0m\n\u001b[1;32m--> 136\u001b[1;33m             \u001b[1;32mraise\u001b[0m \u001b[0mInterfaceError\u001b[0m\u001b[1;33m(\u001b[0m\u001b[0mERR_NO_RESULT_TO_FETCH\u001b[0m\u001b[1;33m)\u001b[0m\u001b[1;33m\u001b[0m\u001b[1;33m\u001b[0m\u001b[0m\n\u001b[0m\u001b[0;32m    137\u001b[0m \u001b[1;33m\u001b[0m\u001b[0m\n\u001b[0;32m    138\u001b[0m     \u001b[1;32mdef\u001b[0m \u001b[0m_fetch_warnings\u001b[0m\u001b[1;33m(\u001b[0m\u001b[0mself\u001b[0m\u001b[1;33m)\u001b[0m\u001b[1;33m:\u001b[0m\u001b[1;33m\u001b[0m\u001b[1;33m\u001b[0m\u001b[0m\n",
      "\u001b[1;31mInterfaceError\u001b[0m: No result set to fetch from"
     ]
    }
   ],
   "source": [
    "cursor.fetchall()"
   ]
  },
  {
   "cell_type": "code",
   "execution_count": 33,
   "id": "0f357532",
   "metadata": {},
   "outputs": [],
   "source": [
    "mydb.close()"
   ]
  },
  {
   "cell_type": "code",
   "execution_count": 39,
   "id": "deb5af7b",
   "metadata": {},
   "outputs": [
    {
     "data": {
      "text/plain": [
       "True"
      ]
     },
     "execution_count": 39,
     "metadata": {},
     "output_type": "execute_result"
    }
   ],
   "source": [
    "mydb.is_connected()"
   ]
  },
  {
   "cell_type": "code",
   "execution_count": 40,
   "id": "e6284843",
   "metadata": {},
   "outputs": [],
   "source": [
    "mydb = con.connect(host='localhost',user=\"root\",passwd=\"Riyaz@4144\",database='ineuron')"
   ]
  },
  {
   "cell_type": "markdown",
   "id": "eca0cfbd",
   "metadata": {},
   "source": [
    "# Creating a table"
   ]
  },
  {
   "cell_type": "code",
   "execution_count": 44,
   "id": "d5e4ebf2",
   "metadata": {},
   "outputs": [],
   "source": [
    "query='create table ineuron.ineuron1(student INT(10),firstname VARCHAR(20),lastname VARCHAR(30),Registrationdate DATE,classname VARCHAR(60) )'"
   ]
  },
  {
   "cell_type": "code",
   "execution_count": 45,
   "id": "fc49630d",
   "metadata": {},
   "outputs": [],
   "source": [
    "cursor = mydb.cursor()\n",
    "cursor.execute(query)"
   ]
  },
  {
   "cell_type": "code",
   "execution_count": 49,
   "id": "164a19e7",
   "metadata": {},
   "outputs": [],
   "source": [
    "cursor=mydb.cursor()\n",
    "cursor.execute(\"show tables\")"
   ]
  },
  {
   "cell_type": "markdown",
   "id": "de6af08b",
   "metadata": {},
   "source": [
    "# checking how many tables are present"
   ]
  },
  {
   "cell_type": "code",
   "execution_count": 50,
   "id": "038ae76a",
   "metadata": {},
   "outputs": [
    {
     "data": {
      "text/plain": [
       "[('ineuron',), ('ineuron1',)]"
      ]
     },
     "execution_count": 50,
     "metadata": {},
     "output_type": "execute_result"
    }
   ],
   "source": [
    "cursor.fetchall()"
   ]
  },
  {
   "cell_type": "markdown",
   "id": "e233418a",
   "metadata": {},
   "source": [
    "# inserting values into the table "
   ]
  },
  {
   "cell_type": "code",
   "execution_count": 52,
   "id": "8f5961ee",
   "metadata": {},
   "outputs": [],
   "source": [
    "cursor.execute('insert into ineuron1 values(123,\"riyaz\",\"sayyad\",\"2022-10-9\",\"MLDL\")')"
   ]
  },
  {
   "cell_type": "code",
   "execution_count": 54,
   "id": "b976ea2e",
   "metadata": {},
   "outputs": [],
   "source": [
    "mydb.commit()"
   ]
  },
  {
   "cell_type": "markdown",
   "id": "31f6af14",
   "metadata": {},
   "source": [
    "# Getting  of the data from the databases"
   ]
  },
  {
   "cell_type": "code",
   "execution_count": 55,
   "id": "7c885d8d",
   "metadata": {},
   "outputs": [],
   "source": [
    "cursor.execute('select * from ineuron1')"
   ]
  },
  {
   "cell_type": "code",
   "execution_count": 56,
   "id": "4638850e",
   "metadata": {},
   "outputs": [
    {
     "data": {
      "text/plain": [
       "[(123, 'riyaz', 'sayyad', datetime.date(2022, 10, 9), 'MLDL')]"
      ]
     },
     "execution_count": 56,
     "metadata": {},
     "output_type": "execute_result"
    }
   ],
   "source": [
    "cursor.fetchall()"
   ]
  },
  {
   "cell_type": "markdown",
   "id": "3f064d6d",
   "metadata": {},
   "source": [
    "# Fetching data from sql db using pandas"
   ]
  },
  {
   "cell_type": "code",
   "execution_count": 1,
   "id": "2b1248eb",
   "metadata": {},
   "outputs": [],
   "source": [
    "import pandas as pd"
   ]
  },
  {
   "cell_type": "code",
   "execution_count": 2,
   "id": "9bc7c026",
   "metadata": {},
   "outputs": [
    {
     "ename": "NameError",
     "evalue": "name 'mydb' is not defined",
     "output_type": "error",
     "traceback": [
      "\u001b[1;31m---------------------------------------------------------------------------\u001b[0m",
      "\u001b[1;31mNameError\u001b[0m                                 Traceback (most recent call last)",
      "\u001b[1;32m~\\AppData\\Local\\Temp/ipykernel_21312/3772715901.py\u001b[0m in \u001b[0;36m<module>\u001b[1;34m\u001b[0m\n\u001b[1;32m----> 1\u001b[1;33m \u001b[0mpd\u001b[0m\u001b[1;33m.\u001b[0m\u001b[0mread_sql\u001b[0m\u001b[1;33m(\u001b[0m\u001b[1;34m'select * from ineuron1'\u001b[0m\u001b[1;33m,\u001b[0m\u001b[0mmydb\u001b[0m\u001b[1;33m)\u001b[0m\u001b[1;33m\u001b[0m\u001b[1;33m\u001b[0m\u001b[0m\n\u001b[0m",
      "\u001b[1;31mNameError\u001b[0m: name 'mydb' is not defined"
     ]
    }
   ],
   "source": [
    "pd.read_sql('select * from ineuron1',mydb)"
   ]
  },
  {
   "cell_type": "markdown",
   "id": "e37e137f",
   "metadata": {},
   "source": [
    "# inserting multiple data at a time"
   ]
  },
  {
   "cell_type": "code",
   "execution_count": 135,
   "id": "66834c31",
   "metadata": {},
   "outputs": [],
   "source": [
    "import csv\n",
    "import mysql.connector as con\n",
    "mydb = con.connect(host='localhost',user=\"root\",passwd=\"Riyaz@4144\",database=\"ineuron\")"
   ]
  },
  {
   "cell_type": "code",
   "execution_count": 57,
   "id": "05bf8588",
   "metadata": {},
   "outputs": [],
   "source": [
    "import csv\n",
    "import mysql.connector as con\n",
    "mydb1=con.connect(host='localhost',user=\"root\",passwd=\"Riyaz@4144\",database=\"ineuron\")"
   ]
  },
  {
   "cell_type": "code",
   "execution_count": 136,
   "id": "d9c7fb41",
   "metadata": {},
   "outputs": [],
   "source": [
    "cursor=mydb.cursor()"
   ]
  },
  {
   "cell_type": "code",
   "execution_count": 142,
   "id": "0722d86c",
   "metadata": {},
   "outputs": [],
   "source": [
    "q4=\"create table Rawdata12(id INT(100),location_id  INT(200),address_1 INT(200) ,address_2 VARCHAR(100),city VARCHAR(500),state_province VARCHAR(300),postal_code INT(200),country VARCHAR(200))\""
   ]
  },
  {
   "cell_type": "code",
   "execution_count": 143,
   "id": "2d21efd1",
   "metadata": {},
   "outputs": [
    {
     "ename": "ProgrammingError",
     "evalue": "1050 (42S01): Table 'rawdata12' already exists",
     "output_type": "error",
     "traceback": [
      "\u001b[1;31m---------------------------------------------------------------------------\u001b[0m",
      "\u001b[1;31mMySQLInterfaceError\u001b[0m                       Traceback (most recent call last)",
      "\u001b[1;32m~\\anaconda3\\lib\\site-packages\\mysql\\connector\\connection_cext.py\u001b[0m in \u001b[0;36mcmd_query\u001b[1;34m(self, query, raw, buffered, raw_as_string)\u001b[0m\n\u001b[0;32m    554\u001b[0m                 \u001b[0mquery\u001b[0m \u001b[1;33m=\u001b[0m \u001b[0mquery\u001b[0m\u001b[1;33m.\u001b[0m\u001b[0mencode\u001b[0m\u001b[1;33m(\u001b[0m\u001b[1;34m\"utf-8\"\u001b[0m\u001b[1;33m)\u001b[0m\u001b[1;33m\u001b[0m\u001b[1;33m\u001b[0m\u001b[0m\n\u001b[1;32m--> 555\u001b[1;33m             self._cmysql.query(\n\u001b[0m\u001b[0;32m    556\u001b[0m                 \u001b[0mquery\u001b[0m\u001b[1;33m,\u001b[0m\u001b[1;33m\u001b[0m\u001b[1;33m\u001b[0m\u001b[0m\n",
      "\u001b[1;31mMySQLInterfaceError\u001b[0m: Table 'rawdata12' already exists",
      "\nThe above exception was the direct cause of the following exception:\n",
      "\u001b[1;31mProgrammingError\u001b[0m                          Traceback (most recent call last)",
      "\u001b[1;32m~\\AppData\\Local\\Temp/ipykernel_21312/3633463231.py\u001b[0m in \u001b[0;36m<module>\u001b[1;34m\u001b[0m\n\u001b[1;32m----> 1\u001b[1;33m \u001b[0mcursor\u001b[0m\u001b[1;33m.\u001b[0m\u001b[0mexecute\u001b[0m\u001b[1;33m(\u001b[0m\u001b[0mq4\u001b[0m\u001b[1;33m)\u001b[0m\u001b[1;33m\u001b[0m\u001b[1;33m\u001b[0m\u001b[0m\n\u001b[0m",
      "\u001b[1;32m~\\anaconda3\\lib\\site-packages\\mysql\\connector\\cursor_cext.py\u001b[0m in \u001b[0;36mexecute\u001b[1;34m(self, operation, params, multi)\u001b[0m\n\u001b[0;32m    274\u001b[0m \u001b[1;33m\u001b[0m\u001b[0m\n\u001b[0;32m    275\u001b[0m         \u001b[1;32mtry\u001b[0m\u001b[1;33m:\u001b[0m\u001b[1;33m\u001b[0m\u001b[1;33m\u001b[0m\u001b[0m\n\u001b[1;32m--> 276\u001b[1;33m             result = self._cnx.cmd_query(\n\u001b[0m\u001b[0;32m    277\u001b[0m                 \u001b[0mstmt\u001b[0m\u001b[1;33m,\u001b[0m\u001b[1;33m\u001b[0m\u001b[1;33m\u001b[0m\u001b[0m\n\u001b[0;32m    278\u001b[0m                 \u001b[0mraw\u001b[0m\u001b[1;33m=\u001b[0m\u001b[0mself\u001b[0m\u001b[1;33m.\u001b[0m\u001b[0m_raw\u001b[0m\u001b[1;33m,\u001b[0m\u001b[1;33m\u001b[0m\u001b[1;33m\u001b[0m\u001b[0m\n",
      "\u001b[1;32m~\\anaconda3\\lib\\site-packages\\mysql\\connector\\connection_cext.py\u001b[0m in \u001b[0;36mcmd_query\u001b[1;34m(self, query, raw, buffered, raw_as_string)\u001b[0m\n\u001b[0;32m    561\u001b[0m             )\n\u001b[0;32m    562\u001b[0m         \u001b[1;32mexcept\u001b[0m \u001b[0mMySQLInterfaceError\u001b[0m \u001b[1;32mas\u001b[0m \u001b[0merr\u001b[0m\u001b[1;33m:\u001b[0m\u001b[1;33m\u001b[0m\u001b[1;33m\u001b[0m\u001b[0m\n\u001b[1;32m--> 563\u001b[1;33m             raise get_mysql_exception(\n\u001b[0m\u001b[0;32m    564\u001b[0m                 \u001b[0merr\u001b[0m\u001b[1;33m.\u001b[0m\u001b[0merrno\u001b[0m\u001b[1;33m,\u001b[0m \u001b[0mmsg\u001b[0m\u001b[1;33m=\u001b[0m\u001b[0merr\u001b[0m\u001b[1;33m.\u001b[0m\u001b[0mmsg\u001b[0m\u001b[1;33m,\u001b[0m \u001b[0msqlstate\u001b[0m\u001b[1;33m=\u001b[0m\u001b[0merr\u001b[0m\u001b[1;33m.\u001b[0m\u001b[0msqlstate\u001b[0m\u001b[1;33m\u001b[0m\u001b[1;33m\u001b[0m\u001b[0m\n\u001b[0;32m    565\u001b[0m             ) from err\n",
      "\u001b[1;31mProgrammingError\u001b[0m: 1050 (42S01): Table 'rawdata12' already exists"
     ]
    }
   ],
   "source": [
    "cursor.execute(q4)"
   ]
  },
  {
   "cell_type": "code",
   "execution_count": 144,
   "id": "fce5b8b8",
   "metadata": {},
   "outputs": [
    {
     "ename": "ProgrammingError",
     "evalue": "1064 (42000): You have an error in your SQL syntax; check the manual that corresponds to your MySQL server version for the right syntax to use near 'Road,Redwood City,CA,94063,US)' at line 1",
     "output_type": "error",
     "traceback": [
      "\u001b[1;31m---------------------------------------------------------------------------\u001b[0m",
      "\u001b[1;31mMySQLInterfaceError\u001b[0m                       Traceback (most recent call last)",
      "\u001b[1;32m~\\anaconda3\\lib\\site-packages\\mysql\\connector\\connection_cext.py\u001b[0m in \u001b[0;36mcmd_query\u001b[1;34m(self, query, raw, buffered, raw_as_string)\u001b[0m\n\u001b[0;32m    554\u001b[0m                 \u001b[0mquery\u001b[0m \u001b[1;33m=\u001b[0m \u001b[0mquery\u001b[0m\u001b[1;33m.\u001b[0m\u001b[0mencode\u001b[0m\u001b[1;33m(\u001b[0m\u001b[1;34m\"utf-8\"\u001b[0m\u001b[1;33m)\u001b[0m\u001b[1;33m\u001b[0m\u001b[1;33m\u001b[0m\u001b[0m\n\u001b[1;32m--> 555\u001b[1;33m             self._cmysql.query(\n\u001b[0m\u001b[0;32m    556\u001b[0m                 \u001b[0mquery\u001b[0m\u001b[1;33m,\u001b[0m\u001b[1;33m\u001b[0m\u001b[1;33m\u001b[0m\u001b[0m\n",
      "\u001b[1;31mMySQLInterfaceError\u001b[0m: You have an error in your SQL syntax; check the manual that corresponds to your MySQL server version for the right syntax to use near 'Road,Redwood City,CA,94063,US)' at line 1",
      "\nThe above exception was the direct cause of the following exception:\n",
      "\u001b[1;31mProgrammingError\u001b[0m                          Traceback (most recent call last)",
      "\u001b[1;32m~\\AppData\\Local\\Temp/ipykernel_21312/2323210350.py\u001b[0m in \u001b[0;36m<module>\u001b[1;34m\u001b[0m\n\u001b[0;32m      3\u001b[0m        \u001b[1;32mfor\u001b[0m \u001b[0mlines\u001b[0m \u001b[1;32min\u001b[0m \u001b[0menumerate\u001b[0m\u001b[1;33m(\u001b[0m\u001b[0mRaw_data12\u001b[0m\u001b[1;33m)\u001b[0m\u001b[1;33m:\u001b[0m\u001b[1;33m\u001b[0m\u001b[1;33m\u001b[0m\u001b[0m\n\u001b[0;32m      4\u001b[0m            \u001b[1;32mfor\u001b[0m \u001b[0mlist_\u001b[0m \u001b[1;32min\u001b[0m \u001b[1;33m(\u001b[0m\u001b[0mlines\u001b[0m\u001b[1;33m[\u001b[0m\u001b[1;36m1\u001b[0m\u001b[1;33m]\u001b[0m\u001b[1;33m)\u001b[0m\u001b[1;33m:\u001b[0m\u001b[1;33m\u001b[0m\u001b[1;33m\u001b[0m\u001b[0m\n\u001b[1;32m----> 5\u001b[1;33m                \u001b[0mcursor\u001b[0m\u001b[1;33m.\u001b[0m\u001b[0mexecute\u001b[0m\u001b[1;33m(\u001b[0m\u001b[1;34m'insert into Rawdata values ({values})'\u001b[0m\u001b[1;33m.\u001b[0m\u001b[0mformat\u001b[0m\u001b[1;33m(\u001b[0m\u001b[0mvalues\u001b[0m \u001b[1;33m=\u001b[0m \u001b[0mlist_\u001b[0m\u001b[1;33m)\u001b[0m\u001b[1;33m)\u001b[0m\u001b[1;33m\u001b[0m\u001b[1;33m\u001b[0m\u001b[0m\n\u001b[0m\u001b[0;32m      6\u001b[0m        \u001b[0mmydb\u001b[0m\u001b[1;33m.\u001b[0m\u001b[0mcommit\u001b[0m\u001b[1;33m(\u001b[0m\u001b[1;33m)\u001b[0m\u001b[1;33m\u001b[0m\u001b[1;33m\u001b[0m\u001b[0m\n\u001b[0;32m      7\u001b[0m \u001b[1;33m\u001b[0m\u001b[0m\n",
      "\u001b[1;32m~\\anaconda3\\lib\\site-packages\\mysql\\connector\\cursor_cext.py\u001b[0m in \u001b[0;36mexecute\u001b[1;34m(self, operation, params, multi)\u001b[0m\n\u001b[0;32m    274\u001b[0m \u001b[1;33m\u001b[0m\u001b[0m\n\u001b[0;32m    275\u001b[0m         \u001b[1;32mtry\u001b[0m\u001b[1;33m:\u001b[0m\u001b[1;33m\u001b[0m\u001b[1;33m\u001b[0m\u001b[0m\n\u001b[1;32m--> 276\u001b[1;33m             result = self._cnx.cmd_query(\n\u001b[0m\u001b[0;32m    277\u001b[0m                 \u001b[0mstmt\u001b[0m\u001b[1;33m,\u001b[0m\u001b[1;33m\u001b[0m\u001b[1;33m\u001b[0m\u001b[0m\n\u001b[0;32m    278\u001b[0m                 \u001b[0mraw\u001b[0m\u001b[1;33m=\u001b[0m\u001b[0mself\u001b[0m\u001b[1;33m.\u001b[0m\u001b[0m_raw\u001b[0m\u001b[1;33m,\u001b[0m\u001b[1;33m\u001b[0m\u001b[1;33m\u001b[0m\u001b[0m\n",
      "\u001b[1;32m~\\anaconda3\\lib\\site-packages\\mysql\\connector\\connection_cext.py\u001b[0m in \u001b[0;36mcmd_query\u001b[1;34m(self, query, raw, buffered, raw_as_string)\u001b[0m\n\u001b[0;32m    561\u001b[0m             )\n\u001b[0;32m    562\u001b[0m         \u001b[1;32mexcept\u001b[0m \u001b[0mMySQLInterfaceError\u001b[0m \u001b[1;32mas\u001b[0m \u001b[0merr\u001b[0m\u001b[1;33m:\u001b[0m\u001b[1;33m\u001b[0m\u001b[1;33m\u001b[0m\u001b[0m\n\u001b[1;32m--> 563\u001b[1;33m             raise get_mysql_exception(\n\u001b[0m\u001b[0;32m    564\u001b[0m                 \u001b[0merr\u001b[0m\u001b[1;33m.\u001b[0m\u001b[0merrno\u001b[0m\u001b[1;33m,\u001b[0m \u001b[0mmsg\u001b[0m\u001b[1;33m=\u001b[0m\u001b[0merr\u001b[0m\u001b[1;33m.\u001b[0m\u001b[0mmsg\u001b[0m\u001b[1;33m,\u001b[0m \u001b[0msqlstate\u001b[0m\u001b[1;33m=\u001b[0m\u001b[0merr\u001b[0m\u001b[1;33m.\u001b[0m\u001b[0msqlstate\u001b[0m\u001b[1;33m\u001b[0m\u001b[1;33m\u001b[0m\u001b[0m\n\u001b[0;32m    565\u001b[0m             ) from err\n",
      "\u001b[1;31mProgrammingError\u001b[0m: 1064 (42000): You have an error in your SQL syntax; check the manual that corresponds to your MySQL server version for the right syntax to use near 'Road,Redwood City,CA,94063,US)' at line 1"
     ]
    }
   ],
   "source": [
    " with open('Raw.data','r') as f:\n",
    "        Raw_data12 = csv.reader(f,delimiter='\\n')\n",
    "        for lines in enumerate(Raw_data12):\n",
    "            for list_ in (lines[1]):\n",
    "                cursor.execute('insert into Rawdata values ({values})'.format(values = list_))\n",
    "        mydb.commit()\n",
    "        "
   ]
  },
  {
   "cell_type": "code",
   "execution_count": 64,
   "id": "b3e7fb37",
   "metadata": {},
   "outputs": [
    {
     "data": {
      "text/plain": [
       "'C:\\\\Users\\\\sayya'"
      ]
     },
     "execution_count": 64,
     "metadata": {},
     "output_type": "execute_result"
    }
   ],
   "source": [
    "pwd()"
   ]
  },
  {
   "cell_type": "code",
   "execution_count": 51,
   "id": "986787fa",
   "metadata": {},
   "outputs": [
    {
     "name": "stdout",
     "output_type": "stream",
     "text": [
      "<enumerate object at 0x0000023984968780>\n",
      "id,location_id,address_1,address_2,city,state_province,postal_code,country\n",
      "1,1,2600, Middlefield Road,Redwood City,CA,94063,US\n",
      "2,2,24 ,Second Avenue,San Mateo,CA,94401,US\n",
      "3,3,24 ,Second Avenue,San Mateo,CA,94403,US\n",
      "4,4,24 ,Second Avenue,San Mateo,CA,94401,US\n",
      "5,5,24 ,Second Avenue,San Mateo,CA,94401,US\n",
      "6,6,800, Middle Avenue,Menlo Park,CA,94025-9881,US\n",
      "7,7,500, Arbor Road,Menlo Park,CA,94025,US\n",
      "8,8,800, Middle Avenue,Menlo Park,CA,94025-9881,US\n",
      "9,9,2510, Middlefield Road,Redwood City,CA,94063,US\n",
      "10,10,1044, Middlefield Road,Redwood City,CA,94063,US\n",
      "11,11,2140 ,Euclid Avenue.,Redwood City,CA,94061,US\n",
      "12,12,1044 ,Middlefield Road,Redwood City,CA,94063,US\n",
      "13,13,399 ,Marine Parkway.,Redwood City,CA,94065,US\n",
      "14,14,660 ,Veterans Blvd.,Redwood City,CA,94063,US\n",
      "15,15,1500 ,Valencia Street,San Francisco,CA,94110,US\n",
      "16,16,1161 ,South Bernardo,Sunnyvale,CA,94087,US\n",
      "17,17,409 ,South Spruce Avenue,South San Francisco,CA,94080,US\n",
      "18,18,114 ,Fifth Avenue,Redwood City,CA,94063,US\n",
      "19,19,19 ,West 39th Avenue,San Mateo,CA,94403,US\n",
      "20,21,123, El Camino Real,Belmont,CA,94002,US\n",
      "21,22,2013, Avenue of the fellows,San Francisco,CA,94103,US\n"
     ]
    }
   ],
   "source": [
    " with open('Raw.data','r') as f:\n",
    "        Raw_data3 = csv.reader(f,delimiter='\\n')\n",
    "        print(enumerate(Raw_data3))\n",
    "        for lines in enumerate(Raw_data3):\n",
    "            for list_ in (lines[1]):\n",
    "                print(list_)"
   ]
  },
  {
   "cell_type": "code",
   "execution_count": 132,
   "id": "cc1e5fce",
   "metadata": {},
   "outputs": [
    {
     "name": "stdout",
     "output_type": "stream",
     "text": [
      "<_csv.reader object at 0x0000023984A319A0>\n",
      "(0, ['1,1,2600, Middlefield Road,Redwood City,CA,94063,US'])\n",
      "(1, ['2,2,24 ,Second Avenue,San Mateo,CA,94401,US'])\n",
      "(2, ['3,3,24 ,Second Avenue,San Mateo,CA,94403,US'])\n",
      "(3, ['4,4,24 ,Second Avenue,San Mateo,CA,94401,US'])\n",
      "(4, ['5,5,24 ,Second Avenue,San Mateo,CA,94401,US'])\n",
      "(5, ['6,6,800, Middle Avenue,Menlo Park,CA,94025-9881,US'])\n",
      "(6, ['7,7,500, Arbor Road,Menlo Park,CA,94025,US'])\n",
      "(7, ['8,8,800, Middle Avenue,Menlo Park,CA,94025-9881,US'])\n",
      "(8, ['9,9,2510, Middlefield Road,Redwood City,CA,94063,US'])\n",
      "(9, ['10,10,1044, Middlefield Road,Redwood City,CA,94063,US'])\n",
      "(10, ['11,11,2140 ,Euclid Avenue.,Redwood City,CA,94061,US'])\n",
      "(11, ['12,12,1044 ,Middlefield Road,Redwood City,CA,94063,US'])\n",
      "(12, ['13,13,399 ,Marine Parkway.,Redwood City,CA,94065,US'])\n",
      "(13, ['14,14,660 ,Veterans Blvd.,Redwood City,CA,94063,US'])\n",
      "(14, ['15,15,1500 ,Valencia Street,San Francisco,CA,94110,US'])\n",
      "(15, ['16,16,1161 ,South Bernardo,Sunnyvale,CA,94087,US'])\n",
      "(16, ['17,17,409 ,South Spruce Avenue,South San Francisco,CA,94080,US'])\n",
      "(17, ['18,18,114 ,Fifth Avenue,Redwood City,CA,94063,US'])\n",
      "(18, ['19,19,19 ,West 39th Avenue,San Mateo,CA,94403,US'])\n",
      "(19, ['20,21,123, El Camino Real,Belmont,CA,94002,US'])\n",
      "(20, ['21,22,2013, Avenue of the fellows,San Francisco,CA,94103,US'])\n"
     ]
    }
   ],
   "source": [
    " with open('Raw.data','r') as f:\n",
    "        Raw_data3 = csv.reader(f,delimiter='\\n')\n",
    "        print(Raw_data3)\n",
    "        for i in enumerate(Raw_data3):\n",
    "            print(i)"
   ]
  },
  {
   "cell_type": "code",
   "execution_count": 66,
   "id": "63241496",
   "metadata": {},
   "outputs": [
    {
     "name": "stdout",
     "output_type": "stream",
     "text": [
      "['1,1,2600, Middlefield Road,Redwood City,CA,94063,US']\n",
      "['2,2,24 ,Second Avenue,San Mateo,CA,94401,US']\n",
      "['3,3,24 ,Second Avenue,San Mateo,CA,94403,US']\n",
      "['4,4,24 ,Second Avenue,San Mateo,CA,94401,US']\n",
      "['5,5,24 ,Second Avenue,San Mateo,CA,94401,US']\n",
      "['6,6,800, Middle Avenue,Menlo Park,CA,94025-9881,US']\n",
      "['7,7,500, Arbor Road,Menlo Park,CA,94025,US']\n",
      "['8,8,800, Middle Avenue,Menlo Park,CA,94025-9881,US']\n",
      "['9,9,2510, Middlefield Road,Redwood City,CA,94063,US']\n",
      "['10,10,1044, Middlefield Road,Redwood City,CA,94063,US']\n",
      "['11,11,2140 ,Euclid Avenue.,Redwood City,CA,94061,US']\n",
      "['12,12,1044 ,Middlefield Road,Redwood City,CA,94063,US']\n",
      "['13,13,399 ,Marine Parkway.,Redwood City,CA,94065,US']\n",
      "['14,14,660 ,Veterans Blvd.,Redwood City,CA,94063,US']\n",
      "['15,15,1500 ,Valencia Street,San Francisco,CA,94110,US']\n",
      "['16,16,1161 ,South Bernardo,Sunnyvale,CA,94087,US']\n",
      "['17,17,409 ,South Spruce Avenue,South San Francisco,CA,94080,US']\n",
      "['18,18,114 ,Fifth Avenue,Redwood City,CA,94063,US']\n",
      "['19,19,19 ,West 39th Avenue,San Mateo,CA,94403,US']\n",
      "['20,21,123, El Camino Real,Belmont,CA,94002,US']\n",
      "['21,22,2013, Avenue of the fellows,San Francisco,CA,94103,US']\n"
     ]
    }
   ],
   "source": [
    " with open('Raw.data','r') as f:\n",
    "        Raw_data3 = csv.reader(f,delimiter='\\n')\n",
    "        #print(enumerate(Raw_data3))\n",
    "        for lines in enumerate(Raw_data3):\n",
    "            for list_ in (lines[1]):\n",
    "                print(lines[1])"
   ]
  },
  {
   "cell_type": "code",
   "execution_count": 133,
   "id": "8b783089",
   "metadata": {},
   "outputs": [
    {
     "ename": "SyntaxError",
     "evalue": "EOL while scanning string literal (Temp/ipykernel_21312/3171084447.py, line 1)",
     "output_type": "error",
     "traceback": [
      "\u001b[1;36m  File \u001b[1;32m\"C:\\Users\\sayya\\AppData\\Local\\Temp/ipykernel_21312/3171084447.py\"\u001b[1;36m, line \u001b[1;32m1\u001b[0m\n\u001b[1;33m    cursor.execute('insert into ineuron.Rawdata values(19,19,19 ,West 39th Avenue,San Mateo,CA,94403,US)\u001b[0m\n\u001b[1;37m                                                                                                        ^\u001b[0m\n\u001b[1;31mSyntaxError\u001b[0m\u001b[1;31m:\u001b[0m EOL while scanning string literal\n"
     ]
    }
   ],
   "source": [
    "cursor.execute('insert into ineuron.Rawdata values(19,19,19 ,West 39th Avenue,San Mateo,CA,94403,US)"
   ]
  },
  {
   "cell_type": "code",
   "execution_count": null,
   "id": "1a1c4cd9",
   "metadata": {},
   "outputs": [],
   "source": []
  },
  {
   "cell_type": "code",
   "execution_count": 53,
   "id": "9d7858a3",
   "metadata": {},
   "outputs": [
    {
     "name": "stdout",
     "output_type": "stream",
     "text": [
      "<enumerate object at 0x0000023984A249C0>\n"
     ]
    }
   ],
   "source": []
  },
  {
   "cell_type": "code",
   "execution_count": 130,
   "id": "b94515b2",
   "metadata": {},
   "outputs": [],
   "source": [
    "import pandas as pd"
   ]
  },
  {
   "cell_type": "code",
   "execution_count": 131,
   "id": "e093f413",
   "metadata": {},
   "outputs": [
    {
     "data": {
      "text/html": [
       "<div>\n",
       "<style scoped>\n",
       "    .dataframe tbody tr th:only-of-type {\n",
       "        vertical-align: middle;\n",
       "    }\n",
       "\n",
       "    .dataframe tbody tr th {\n",
       "        vertical-align: top;\n",
       "    }\n",
       "\n",
       "    .dataframe thead th {\n",
       "        text-align: right;\n",
       "    }\n",
       "</style>\n",
       "<table border=\"1\" class=\"dataframe\">\n",
       "  <thead>\n",
       "    <tr style=\"text-align: right;\">\n",
       "      <th></th>\n",
       "      <th>id</th>\n",
       "      <th>location_id</th>\n",
       "      <th>address_1</th>\n",
       "      <th>address_2</th>\n",
       "      <th>city</th>\n",
       "      <th>state_province</th>\n",
       "      <th>postal_code</th>\n",
       "      <th>country</th>\n",
       "    </tr>\n",
       "  </thead>\n",
       "  <tbody>\n",
       "    <tr>\n",
       "      <th>0</th>\n",
       "      <td>None</td>\n",
       "      <td>None</td>\n",
       "      <td>None</td>\n",
       "      <td>None</td>\n",
       "      <td>None</td>\n",
       "      <td>None</td>\n",
       "      <td>None</td>\n",
       "      <td>None</td>\n",
       "    </tr>\n",
       "    <tr>\n",
       "      <th>1</th>\n",
       "      <td>None</td>\n",
       "      <td>None</td>\n",
       "      <td>None</td>\n",
       "      <td>None</td>\n",
       "      <td>None</td>\n",
       "      <td>None</td>\n",
       "      <td>None</td>\n",
       "      <td>None</td>\n",
       "    </tr>\n",
       "    <tr>\n",
       "      <th>2</th>\n",
       "      <td>None</td>\n",
       "      <td>None</td>\n",
       "      <td>None</td>\n",
       "      <td>None</td>\n",
       "      <td>None</td>\n",
       "      <td>None</td>\n",
       "      <td>None</td>\n",
       "      <td>None</td>\n",
       "    </tr>\n",
       "    <tr>\n",
       "      <th>3</th>\n",
       "      <td>None</td>\n",
       "      <td>None</td>\n",
       "      <td>None</td>\n",
       "      <td>None</td>\n",
       "      <td>None</td>\n",
       "      <td>None</td>\n",
       "      <td>None</td>\n",
       "      <td>None</td>\n",
       "    </tr>\n",
       "    <tr>\n",
       "      <th>4</th>\n",
       "      <td>None</td>\n",
       "      <td>None</td>\n",
       "      <td>None</td>\n",
       "      <td>None</td>\n",
       "      <td>None</td>\n",
       "      <td>None</td>\n",
       "      <td>None</td>\n",
       "      <td>None</td>\n",
       "    </tr>\n",
       "  </tbody>\n",
       "</table>\n",
       "</div>"
      ],
      "text/plain": [
       "     id location_id address_1 address_2  city state_province postal_code  \\\n",
       "0  None        None      None      None  None           None        None   \n",
       "1  None        None      None      None  None           None        None   \n",
       "2  None        None      None      None  None           None        None   \n",
       "3  None        None      None      None  None           None        None   \n",
       "4  None        None      None      None  None           None        None   \n",
       "\n",
       "  country  \n",
       "0    None  \n",
       "1    None  \n",
       "2    None  \n",
       "3    None  \n",
       "4    None  "
      ]
     },
     "execution_count": 131,
     "metadata": {},
     "output_type": "execute_result"
    }
   ],
   "source": [
    "pd.read_sql(\"select * from ineuron.Rawdata\",mydb)"
   ]
  },
  {
   "cell_type": "code",
   "execution_count": null,
   "id": "dcd1bcfb",
   "metadata": {},
   "outputs": [],
   "source": []
  },
  {
   "cell_type": "markdown",
   "id": "f44e16e5",
   "metadata": {},
   "source": [
    "# Glass data"
   ]
  },
  {
   "cell_type": "code",
   "execution_count": 70,
   "id": "b408c726",
   "metadata": {},
   "outputs": [],
   "source": [
    "import csv\n",
    "import mysql.connector as con\n",
    "mydb1=con.connect(host='localhost',user=\"root\",passwd=\"Riyaz@4144\",database=\"ineuron\")"
   ]
  },
  {
   "cell_type": "code",
   "execution_count": 71,
   "id": "1949ebc5",
   "metadata": {},
   "outputs": [],
   "source": [
    "cursor=mydb1.cursor()"
   ]
  },
  {
   "cell_type": "code",
   "execution_count": 72,
   "id": "258a22a6",
   "metadata": {},
   "outputs": [],
   "source": [
    "q2='create table glassdata1(index1 INT(10),RI float(10,5),Na float(10,5),Mg float(10,5),Al float(10,5),Si FLOAT(10,5),K float(10,5),Ca float(10,5),Ba float(10,5),Fe float(10,5),Class INT(5))'"
   ]
  },
  {
   "cell_type": "code",
   "execution_count": 116,
   "id": "31845c95",
   "metadata": {
    "scrolled": true
   },
   "outputs": [
    {
     "ename": "ProgrammingError",
     "evalue": "1050 (42S01): Table 'glassdata1' already exists",
     "output_type": "error",
     "traceback": [
      "\u001b[1;31m---------------------------------------------------------------------------\u001b[0m",
      "\u001b[1;31mMySQLInterfaceError\u001b[0m                       Traceback (most recent call last)",
      "\u001b[1;32m~\\anaconda3\\lib\\site-packages\\mysql\\connector\\connection_cext.py\u001b[0m in \u001b[0;36mcmd_query\u001b[1;34m(self, query, raw, buffered, raw_as_string)\u001b[0m\n\u001b[0;32m    554\u001b[0m                 \u001b[0mquery\u001b[0m \u001b[1;33m=\u001b[0m \u001b[0mquery\u001b[0m\u001b[1;33m.\u001b[0m\u001b[0mencode\u001b[0m\u001b[1;33m(\u001b[0m\u001b[1;34m\"utf-8\"\u001b[0m\u001b[1;33m)\u001b[0m\u001b[1;33m\u001b[0m\u001b[1;33m\u001b[0m\u001b[0m\n\u001b[1;32m--> 555\u001b[1;33m             self._cmysql.query(\n\u001b[0m\u001b[0;32m    556\u001b[0m                 \u001b[0mquery\u001b[0m\u001b[1;33m,\u001b[0m\u001b[1;33m\u001b[0m\u001b[1;33m\u001b[0m\u001b[0m\n",
      "\u001b[1;31mMySQLInterfaceError\u001b[0m: Table 'glassdata1' already exists",
      "\nThe above exception was the direct cause of the following exception:\n",
      "\u001b[1;31mProgrammingError\u001b[0m                          Traceback (most recent call last)",
      "\u001b[1;32m~\\AppData\\Local\\Temp/ipykernel_21312/1378802574.py\u001b[0m in \u001b[0;36m<module>\u001b[1;34m\u001b[0m\n\u001b[1;32m----> 1\u001b[1;33m \u001b[0mcursor\u001b[0m\u001b[1;33m.\u001b[0m\u001b[0mexecute\u001b[0m\u001b[1;33m(\u001b[0m\u001b[0mq2\u001b[0m\u001b[1;33m)\u001b[0m\u001b[1;33m\u001b[0m\u001b[1;33m\u001b[0m\u001b[0m\n\u001b[0m",
      "\u001b[1;32m~\\anaconda3\\lib\\site-packages\\mysql\\connector\\cursor_cext.py\u001b[0m in \u001b[0;36mexecute\u001b[1;34m(self, operation, params, multi)\u001b[0m\n\u001b[0;32m    274\u001b[0m \u001b[1;33m\u001b[0m\u001b[0m\n\u001b[0;32m    275\u001b[0m         \u001b[1;32mtry\u001b[0m\u001b[1;33m:\u001b[0m\u001b[1;33m\u001b[0m\u001b[1;33m\u001b[0m\u001b[0m\n\u001b[1;32m--> 276\u001b[1;33m             result = self._cnx.cmd_query(\n\u001b[0m\u001b[0;32m    277\u001b[0m                 \u001b[0mstmt\u001b[0m\u001b[1;33m,\u001b[0m\u001b[1;33m\u001b[0m\u001b[1;33m\u001b[0m\u001b[0m\n\u001b[0;32m    278\u001b[0m                 \u001b[0mraw\u001b[0m\u001b[1;33m=\u001b[0m\u001b[0mself\u001b[0m\u001b[1;33m.\u001b[0m\u001b[0m_raw\u001b[0m\u001b[1;33m,\u001b[0m\u001b[1;33m\u001b[0m\u001b[1;33m\u001b[0m\u001b[0m\n",
      "\u001b[1;32m~\\anaconda3\\lib\\site-packages\\mysql\\connector\\connection_cext.py\u001b[0m in \u001b[0;36mcmd_query\u001b[1;34m(self, query, raw, buffered, raw_as_string)\u001b[0m\n\u001b[0;32m    561\u001b[0m             )\n\u001b[0;32m    562\u001b[0m         \u001b[1;32mexcept\u001b[0m \u001b[0mMySQLInterfaceError\u001b[0m \u001b[1;32mas\u001b[0m \u001b[0merr\u001b[0m\u001b[1;33m:\u001b[0m\u001b[1;33m\u001b[0m\u001b[1;33m\u001b[0m\u001b[0m\n\u001b[1;32m--> 563\u001b[1;33m             raise get_mysql_exception(\n\u001b[0m\u001b[0;32m    564\u001b[0m                 \u001b[0merr\u001b[0m\u001b[1;33m.\u001b[0m\u001b[0merrno\u001b[0m\u001b[1;33m,\u001b[0m \u001b[0mmsg\u001b[0m\u001b[1;33m=\u001b[0m\u001b[0merr\u001b[0m\u001b[1;33m.\u001b[0m\u001b[0mmsg\u001b[0m\u001b[1;33m,\u001b[0m \u001b[0msqlstate\u001b[0m\u001b[1;33m=\u001b[0m\u001b[0merr\u001b[0m\u001b[1;33m.\u001b[0m\u001b[0msqlstate\u001b[0m\u001b[1;33m\u001b[0m\u001b[1;33m\u001b[0m\u001b[0m\n\u001b[0;32m    565\u001b[0m             ) from err\n",
      "\u001b[1;31mProgrammingError\u001b[0m: 1050 (42S01): Table 'glassdata1' already exists"
     ]
    }
   ],
   "source": [
    "cursor.execute(q2)"
   ]
  },
  {
   "cell_type": "code",
   "execution_count": 120,
   "id": "332d0a5e",
   "metadata": {},
   "outputs": [
    {
     "name": "stdout",
     "output_type": "stream",
     "text": [
      "1,1.52101,13.64,4.49,1.10,71.78,0.06,8.75,0.00,0.00,1\n",
      "2,1.51761,13.89,3.60,1.36,72.73,0.48,7.83,0.00,0.00,1\n",
      "3,1.51618,13.53,3.55,1.54,72.99,0.39,7.78,0.00,0.00,1\n",
      "4,1.51766,13.21,3.69,1.29,72.61,0.57,8.22,0.00,0.00,1\n",
      "5,1.51742,13.27,3.62,1.24,73.08,0.55,8.07,0.00,0.00,1\n",
      "6,1.51596,12.79,3.61,1.62,72.97,0.64,8.07,0.00,0.26,1\n",
      "7,1.51743,13.30,3.60,1.14,73.09,0.58,8.17,0.00,0.00,1\n",
      "8,1.51756,13.15,3.61,1.05,73.24,0.57,8.24,0.00,0.00,1\n",
      "9,1.51918,14.04,3.58,1.37,72.08,0.56,8.30,0.00,0.00,1\n",
      "10,1.51755,13.00,3.60,1.36,72.99,0.57,8.40,0.00,0.11,1\n",
      "11,1.51571,12.72,3.46,1.56,73.20,0.67,8.09,0.00,0.24,1\n",
      "12,1.51763,12.80,3.66,1.27,73.01,0.60,8.56,0.00,0.00,1\n",
      "13,1.51589,12.88,3.43,1.40,73.28,0.69,8.05,0.00,0.24,1\n",
      "14,1.51748,12.86,3.56,1.27,73.21,0.54,8.38,0.00,0.17,1\n",
      "15,1.51763,12.61,3.59,1.31,73.29,0.58,8.50,0.00,0.00,1\n",
      "16,1.51761,12.81,3.54,1.23,73.24,0.58,8.39,0.00,0.00,1\n",
      "17,1.51784,12.68,3.67,1.16,73.11,0.61,8.70,0.00,0.00,1\n",
      "18,1.52196,14.36,3.85,0.89,71.36,0.15,9.15,0.00,0.00,1\n",
      "19,1.51911,13.90,3.73,1.18,72.12,0.06,8.89,0.00,0.00,1\n",
      "20,1.51735,13.02,3.54,1.69,72.73,0.54,8.44,0.00,0.07,1\n",
      "21,1.51750,12.82,3.55,1.49,72.75,0.54,8.52,0.00,0.19,1\n",
      "22,1.51966,14.77,3.75,0.29,72.02,0.03,9.00,0.00,0.00,1\n",
      "23,1.51736,12.78,3.62,1.29,72.79,0.59,8.70,0.00,0.00,1\n",
      "24,1.51751,12.81,3.57,1.35,73.02,0.62,8.59,0.00,0.00,1\n",
      "25,1.51720,13.38,3.50,1.15,72.85,0.50,8.43,0.00,0.00,1\n",
      "26,1.51764,12.98,3.54,1.21,73.00,0.65,8.53,0.00,0.00,1\n",
      "27,1.51793,13.21,3.48,1.41,72.64,0.59,8.43,0.00,0.00,1\n",
      "28,1.51721,12.87,3.48,1.33,73.04,0.56,8.43,0.00,0.00,1\n",
      "29,1.51768,12.56,3.52,1.43,73.15,0.57,8.54,0.00,0.00,1\n",
      "30,1.51784,13.08,3.49,1.28,72.86,0.60,8.49,0.00,0.00,1\n",
      "31,1.51768,12.65,3.56,1.30,73.08,0.61,8.69,0.00,0.14,1\n",
      "32,1.51747,12.84,3.50,1.14,73.27,0.56,8.55,0.00,0.00,1\n",
      "33,1.51775,12.85,3.48,1.23,72.97,0.61,8.56,0.09,0.22,1\n",
      "34,1.51753,12.57,3.47,1.38,73.39,0.60,8.55,0.00,0.06,1\n",
      "35,1.51783,12.69,3.54,1.34,72.95,0.57,8.75,0.00,0.00,1\n",
      "36,1.51567,13.29,3.45,1.21,72.74,0.56,8.57,0.00,0.00,1\n",
      "37,1.51909,13.89,3.53,1.32,71.81,0.51,8.78,0.11,0.00,1\n",
      "38,1.51797,12.74,3.48,1.35,72.96,0.64,8.68,0.00,0.00,1\n",
      "39,1.52213,14.21,3.82,0.47,71.77,0.11,9.57,0.00,0.00,1\n",
      "40,1.52213,14.21,3.82,0.47,71.77,0.11,9.57,0.00,0.00,1\n",
      "41,1.51793,12.79,3.50,1.12,73.03,0.64,8.77,0.00,0.00,1\n",
      "42,1.51755,12.71,3.42,1.20,73.20,0.59,8.64,0.00,0.00,1\n",
      "43,1.51779,13.21,3.39,1.33,72.76,0.59,8.59,0.00,0.00,1\n",
      "44,1.52210,13.73,3.84,0.72,71.76,0.17,9.74,0.00,0.00,1\n",
      "45,1.51786,12.73,3.43,1.19,72.95,0.62,8.76,0.00,0.30,1\n",
      "46,1.51900,13.49,3.48,1.35,71.95,0.55,9.00,0.00,0.00,1\n",
      "47,1.51869,13.19,3.37,1.18,72.72,0.57,8.83,0.00,0.16,1\n",
      "48,1.52667,13.99,3.70,0.71,71.57,0.02,9.82,0.00,0.10,1\n",
      "49,1.52223,13.21,3.77,0.79,71.99,0.13,10.02,0.00,0.00,1\n",
      "50,1.51898,13.58,3.35,1.23,72.08,0.59,8.91,0.00,0.00,1\n",
      "51,1.52320,13.72,3.72,0.51,71.75,0.09,10.06,0.00,0.16,1\n",
      "52,1.51926,13.20,3.33,1.28,72.36,0.60,9.14,0.00,0.11,1\n",
      "53,1.51808,13.43,2.87,1.19,72.84,0.55,9.03,0.00,0.00,1\n",
      "54,1.51837,13.14,2.84,1.28,72.85,0.55,9.07,0.00,0.00,1\n",
      "55,1.51778,13.21,2.81,1.29,72.98,0.51,9.02,0.00,0.09,1\n",
      "56,1.51769,12.45,2.71,1.29,73.70,0.56,9.06,0.00,0.24,1\n",
      "57,1.51215,12.99,3.47,1.12,72.98,0.62,8.35,0.00,0.31,1\n",
      "58,1.51824,12.87,3.48,1.29,72.95,0.60,8.43,0.00,0.00,1\n",
      "59,1.51754,13.48,3.74,1.17,72.99,0.59,8.03,0.00,0.00,1\n",
      "60,1.51754,13.39,3.66,1.19,72.79,0.57,8.27,0.00,0.11,1\n",
      "61,1.51905,13.60,3.62,1.11,72.64,0.14,8.76,0.00,0.00,1\n",
      "62,1.51977,13.81,3.58,1.32,71.72,0.12,8.67,0.69,0.00,1\n",
      "63,1.52172,13.51,3.86,0.88,71.79,0.23,9.54,0.00,0.11,1\n",
      "64,1.52227,14.17,3.81,0.78,71.35,0.00,9.69,0.00,0.00,1\n",
      "65,1.52172,13.48,3.74,0.90,72.01,0.18,9.61,0.00,0.07,1\n",
      "66,1.52099,13.69,3.59,1.12,71.96,0.09,9.40,0.00,0.00,1\n",
      "67,1.52152,13.05,3.65,0.87,72.22,0.19,9.85,0.00,0.17,1\n",
      "68,1.52152,13.05,3.65,0.87,72.32,0.19,9.85,0.00,0.17,1\n",
      "69,1.52152,13.12,3.58,0.90,72.20,0.23,9.82,0.00,0.16,1\n",
      "70,1.52300,13.31,3.58,0.82,71.99,0.12,10.17,0.00,0.03,1\n",
      "71,1.51574,14.86,3.67,1.74,71.87,0.16,7.36,0.00,0.12,2\n",
      "72,1.51848,13.64,3.87,1.27,71.96,0.54,8.32,0.00,0.32,2\n",
      "73,1.51593,13.09,3.59,1.52,73.10,0.67,7.83,0.00,0.00,2\n",
      "74,1.51631,13.34,3.57,1.57,72.87,0.61,7.89,0.00,0.00,2\n",
      "75,1.51596,13.02,3.56,1.54,73.11,0.72,7.90,0.00,0.00,2\n",
      "76,1.51590,13.02,3.58,1.51,73.12,0.69,7.96,0.00,0.00,2\n",
      "77,1.51645,13.44,3.61,1.54,72.39,0.66,8.03,0.00,0.00,2\n",
      "78,1.51627,13.00,3.58,1.54,72.83,0.61,8.04,0.00,0.00,2\n",
      "79,1.51613,13.92,3.52,1.25,72.88,0.37,7.94,0.00,0.14,2\n",
      "80,1.51590,12.82,3.52,1.90,72.86,0.69,7.97,0.00,0.00,2\n",
      "81,1.51592,12.86,3.52,2.12,72.66,0.69,7.97,0.00,0.00,2\n",
      "82,1.51593,13.25,3.45,1.43,73.17,0.61,7.86,0.00,0.00,2\n",
      "83,1.51646,13.41,3.55,1.25,72.81,0.68,8.10,0.00,0.00,2\n",
      "84,1.51594,13.09,3.52,1.55,72.87,0.68,8.05,0.00,0.09,2\n",
      "85,1.51409,14.25,3.09,2.08,72.28,1.10,7.08,0.00,0.00,2\n",
      "86,1.51625,13.36,3.58,1.49,72.72,0.45,8.21,0.00,0.00,2\n",
      "87,1.51569,13.24,3.49,1.47,73.25,0.38,8.03,0.00,0.00,2\n",
      "88,1.51645,13.40,3.49,1.52,72.65,0.67,8.08,0.00,0.10,2\n",
      "89,1.51618,13.01,3.50,1.48,72.89,0.60,8.12,0.00,0.00,2\n",
      "90,1.51640,12.55,3.48,1.87,73.23,0.63,8.08,0.00,0.09,2\n",
      "91,1.51841,12.93,3.74,1.11,72.28,0.64,8.96,0.00,0.22,2\n",
      "92,1.51605,12.90,3.44,1.45,73.06,0.44,8.27,0.00,0.00,2\n",
      "93,1.51588,13.12,3.41,1.58,73.26,0.07,8.39,0.00,0.19,2\n",
      "94,1.51590,13.24,3.34,1.47,73.10,0.39,8.22,0.00,0.00,2\n",
      "95,1.51629,12.71,3.33,1.49,73.28,0.67,8.24,0.00,0.00,2\n",
      "96,1.51860,13.36,3.43,1.43,72.26,0.51,8.60,0.00,0.00,2\n",
      "97,1.51841,13.02,3.62,1.06,72.34,0.64,9.13,0.00,0.15,2\n",
      "98,1.51743,12.20,3.25,1.16,73.55,0.62,8.90,0.00,0.24,2\n",
      "99,1.51689,12.67,2.88,1.71,73.21,0.73,8.54,0.00,0.00,2\n",
      "100,1.51811,12.96,2.96,1.43,72.92,0.60,8.79,0.14,0.00,2\n",
      "101,1.51655,12.75,2.85,1.44,73.27,0.57,8.79,0.11,0.22,2\n",
      "102,1.51730,12.35,2.72,1.63,72.87,0.70,9.23,0.00,0.00,2\n",
      "103,1.51820,12.62,2.76,0.83,73.81,0.35,9.42,0.00,0.20,2\n",
      "104,1.52725,13.80,3.15,0.66,70.57,0.08,11.64,0.00,0.00,2\n",
      "105,1.52410,13.83,2.90,1.17,71.15,0.08,10.79,0.00,0.00,2\n",
      "106,1.52475,11.45,0.00,1.88,72.19,0.81,13.24,0.00,0.34,2\n",
      "107,1.53125,10.73,0.00,2.10,69.81,0.58,13.30,3.15,0.28,2\n",
      "108,1.53393,12.30,0.00,1.00,70.16,0.12,16.19,0.00,0.24,2\n",
      "109,1.52222,14.43,0.00,1.00,72.67,0.10,11.52,0.00,0.08,2\n",
      "110,1.51818,13.72,0.00,0.56,74.45,0.00,10.99,0.00,0.00,2\n",
      "111,1.52664,11.23,0.00,0.77,73.21,0.00,14.68,0.00,0.00,2\n",
      "112,1.52739,11.02,0.00,0.75,73.08,0.00,14.96,0.00,0.00,2\n",
      "113,1.52777,12.64,0.00,0.67,72.02,0.06,14.40,0.00,0.00,2\n",
      "114,1.51892,13.46,3.83,1.26,72.55,0.57,8.21,0.00,0.14,2\n",
      "115,1.51847,13.10,3.97,1.19,72.44,0.60,8.43,0.00,0.00,2\n",
      "116,1.51846,13.41,3.89,1.33,72.38,0.51,8.28,0.00,0.00,2\n",
      "117,1.51829,13.24,3.90,1.41,72.33,0.55,8.31,0.00,0.10,2\n",
      "118,1.51708,13.72,3.68,1.81,72.06,0.64,7.88,0.00,0.00,2\n",
      "119,1.51673,13.30,3.64,1.53,72.53,0.65,8.03,0.00,0.29,2\n",
      "120,1.51652,13.56,3.57,1.47,72.45,0.64,7.96,0.00,0.00,2\n",
      "121,1.51844,13.25,3.76,1.32,72.40,0.58,8.42,0.00,0.00,2\n",
      "122,1.51663,12.93,3.54,1.62,72.96,0.64,8.03,0.00,0.21,2\n",
      "123,1.51687,13.23,3.54,1.48,72.84,0.56,8.10,0.00,0.00,2\n",
      "124,1.51707,13.48,3.48,1.71,72.52,0.62,7.99,0.00,0.00,2\n",
      "125,1.52177,13.20,3.68,1.15,72.75,0.54,8.52,0.00,0.00,2\n",
      "126,1.51872,12.93,3.66,1.56,72.51,0.58,8.55,0.00,0.12,2\n",
      "127,1.51667,12.94,3.61,1.26,72.75,0.56,8.60,0.00,0.00,2\n",
      "128,1.52081,13.78,2.28,1.43,71.99,0.49,9.85,0.00,0.17,2\n",
      "129,1.52068,13.55,2.09,1.67,72.18,0.53,9.57,0.27,0.17,2\n",
      "130,1.52020,13.98,1.35,1.63,71.76,0.39,10.56,0.00,0.18,2\n",
      "131,1.52177,13.75,1.01,1.36,72.19,0.33,11.14,0.00,0.00,2\n",
      "132,1.52614,13.70,0.00,1.36,71.24,0.19,13.44,0.00,0.10,2\n",
      "133,1.51813,13.43,3.98,1.18,72.49,0.58,8.15,0.00,0.00,2\n",
      "134,1.51800,13.71,3.93,1.54,71.81,0.54,8.21,0.00,0.15,2\n",
      "135,1.51811,13.33,3.85,1.25,72.78,0.52,8.12,0.00,0.00,2\n",
      "136,1.51789,13.19,3.90,1.30,72.33,0.55,8.44,0.00,0.28,2\n",
      "137,1.51806,13.00,3.80,1.08,73.07,0.56,8.38,0.00,0.12,2\n",
      "138,1.51711,12.89,3.62,1.57,72.96,0.61,8.11,0.00,0.00,2\n",
      "139,1.51674,12.79,3.52,1.54,73.36,0.66,7.90,0.00,0.00,2\n",
      "140,1.51674,12.87,3.56,1.64,73.14,0.65,7.99,0.00,0.00,2\n",
      "141,1.51690,13.33,3.54,1.61,72.54,0.68,8.11,0.00,0.00,2\n",
      "142,1.51851,13.20,3.63,1.07,72.83,0.57,8.41,0.09,0.17,2\n",
      "143,1.51662,12.85,3.51,1.44,73.01,0.68,8.23,0.06,0.25,2\n",
      "144,1.51709,13.00,3.47,1.79,72.72,0.66,8.18,0.00,0.00,2\n",
      "145,1.51660,12.99,3.18,1.23,72.97,0.58,8.81,0.00,0.24,2\n",
      "146,1.51839,12.85,3.67,1.24,72.57,0.62,8.68,0.00,0.35,2\n",
      "147,1.51769,13.65,3.66,1.11,72.77,0.11,8.60,0.00,0.00,3\n",
      "148,1.51610,13.33,3.53,1.34,72.67,0.56,8.33,0.00,0.00,3\n",
      "149,1.51670,13.24,3.57,1.38,72.70,0.56,8.44,0.00,0.10,3\n",
      "150,1.51643,12.16,3.52,1.35,72.89,0.57,8.53,0.00,0.00,3\n",
      "151,1.51665,13.14,3.45,1.76,72.48,0.60,8.38,0.00,0.17,3\n",
      "152,1.52127,14.32,3.90,0.83,71.50,0.00,9.49,0.00,0.00,3\n",
      "153,1.51779,13.64,3.65,0.65,73.00,0.06,8.93,0.00,0.00,3\n",
      "154,1.51610,13.42,3.40,1.22,72.69,0.59,8.32,0.00,0.00,3\n",
      "155,1.51694,12.86,3.58,1.31,72.61,0.61,8.79,0.00,0.00,3\n",
      "156,1.51646,13.04,3.40,1.26,73.01,0.52,8.58,0.00,0.00,3\n",
      "157,1.51655,13.41,3.39,1.28,72.64,0.52,8.65,0.00,0.00,3\n",
      "158,1.52121,14.03,3.76,0.58,71.79,0.11,9.65,0.00,0.00,3\n",
      "159,1.51776,13.53,3.41,1.52,72.04,0.58,8.79,0.00,0.00,3\n",
      "160,1.51796,13.50,3.36,1.63,71.94,0.57,8.81,0.00,0.09,3\n",
      "161,1.51832,13.33,3.34,1.54,72.14,0.56,8.99,0.00,0.00,3\n",
      "162,1.51934,13.64,3.54,0.75,72.65,0.16,8.89,0.15,0.24,3\n",
      "163,1.52211,14.19,3.78,0.91,71.36,0.23,9.14,0.00,0.37,3\n",
      "164,1.51514,14.01,2.68,3.50,69.89,1.68,5.87,2.20,0.00,5\n",
      "165,1.51915,12.73,1.85,1.86,72.69,0.60,10.09,0.00,0.00,5\n",
      "166,1.52171,11.56,1.88,1.56,72.86,0.47,11.41,0.00,0.00,5\n",
      "167,1.52151,11.03,1.71,1.56,73.44,0.58,11.62,0.00,0.00,5\n",
      "168,1.51969,12.64,0.00,1.65,73.75,0.38,11.53,0.00,0.00,5\n",
      "169,1.51666,12.86,0.00,1.83,73.88,0.97,10.17,0.00,0.00,5\n",
      "170,1.51994,13.27,0.00,1.76,73.03,0.47,11.32,0.00,0.00,5\n",
      "171,1.52369,13.44,0.00,1.58,72.22,0.32,12.24,0.00,0.00,5\n",
      "172,1.51316,13.02,0.00,3.04,70.48,6.21,6.96,0.00,0.00,5\n",
      "173,1.51321,13.00,0.00,3.02,70.70,6.21,6.93,0.00,0.00,5\n",
      "174,1.52043,13.38,0.00,1.40,72.25,0.33,12.50,0.00,0.00,5\n",
      "175,1.52058,12.85,1.61,2.17,72.18,0.76,9.70,0.24,0.51,5\n",
      "176,1.52119,12.97,0.33,1.51,73.39,0.13,11.27,0.00,0.28,5\n",
      "177,1.51905,14.00,2.39,1.56,72.37,0.00,9.57,0.00,0.00,6\n",
      "178,1.51937,13.79,2.41,1.19,72.76,0.00,9.77,0.00,0.00,6\n",
      "179,1.51829,14.46,2.24,1.62,72.38,0.00,9.26,0.00,0.00,6\n",
      "180,1.51852,14.09,2.19,1.66,72.67,0.00,9.32,0.00,0.00,6\n",
      "181,1.51299,14.40,1.74,1.54,74.55,0.00,7.59,0.00,0.00,6\n",
      "182,1.51888,14.99,0.78,1.74,72.50,0.00,9.95,0.00,0.00,6\n",
      "183,1.51916,14.15,0.00,2.09,72.74,0.00,10.88,0.00,0.00,6\n",
      "184,1.51969,14.56,0.00,0.56,73.48,0.00,11.22,0.00,0.00,6\n",
      "185,1.51115,17.38,0.00,0.34,75.41,0.00,6.65,0.00,0.00,6\n",
      "186,1.51131,13.69,3.20,1.81,72.81,1.76,5.43,1.19,0.00,7\n",
      "187,1.51838,14.32,3.26,2.22,71.25,1.46,5.79,1.63,0.00,7\n",
      "188,1.52315,13.44,3.34,1.23,72.38,0.60,8.83,0.00,0.00,7\n",
      "189,1.52247,14.86,2.20,2.06,70.26,0.76,9.76,0.00,0.00,7\n",
      "190,1.52365,15.79,1.83,1.31,70.43,0.31,8.61,1.68,0.00,7\n",
      "191,1.51613,13.88,1.78,1.79,73.10,0.00,8.67,0.76,0.00,7\n",
      "192,1.51602,14.85,0.00,2.38,73.28,0.00,8.76,0.64,0.09,7\n",
      "193,1.51623,14.20,0.00,2.79,73.46,0.04,9.04,0.40,0.09,7\n",
      "194,1.51719,14.75,0.00,2.00,73.02,0.00,8.53,1.59,0.08,7\n",
      "195,1.51683,14.56,0.00,1.98,73.29,0.00,8.52,1.57,0.07,7\n",
      "196,1.51545,14.14,0.00,2.68,73.39,0.08,9.07,0.61,0.05,7\n",
      "197,1.51556,13.87,0.00,2.54,73.23,0.14,9.41,0.81,0.01,7\n",
      "198,1.51727,14.70,0.00,2.34,73.28,0.00,8.95,0.66,0.00,7\n",
      "199,1.51531,14.38,0.00,2.66,73.10,0.04,9.08,0.64,0.00,7\n",
      "200,1.51609,15.01,0.00,2.51,73.05,0.05,8.83,0.53,0.00,7\n",
      "201,1.51508,15.15,0.00,2.25,73.50,0.00,8.34,0.63,0.00,7\n",
      "202,1.51653,11.95,0.00,1.19,75.18,2.70,8.93,0.00,0.00,7\n",
      "203,1.51514,14.85,0.00,2.42,73.72,0.00,8.39,0.56,0.00,7\n",
      "204,1.51658,14.80,0.00,1.99,73.11,0.00,8.28,1.71,0.00,7\n",
      "205,1.51617,14.95,0.00,2.27,73.30,0.00,8.71,0.67,0.00,7\n",
      "206,1.51732,14.95,0.00,1.80,72.99,0.00,8.61,1.55,0.00,7\n",
      "207,1.51645,14.94,0.00,1.87,73.11,0.00,8.67,1.38,0.00,7\n",
      "208,1.51831,14.39,0.00,1.82,72.86,1.41,6.47,2.88,0.00,7\n",
      "209,1.51640,14.37,0.00,2.74,72.85,0.00,9.45,0.54,0.00,7\n",
      "210,1.51623,14.14,0.00,2.88,72.61,0.08,9.18,1.06,0.00,7\n",
      "211,1.51685,14.92,0.00,1.99,73.06,0.00,8.40,1.59,0.00,7\n",
      "212,1.52065,14.36,0.00,2.02,73.42,0.00,8.44,1.64,0.00,7\n",
      "213,1.51651,14.38,0.00,1.94,73.61,0.00,8.48,1.57,0.00,7\n",
      "214,1.51711,14.23,0.00,2.08,73.36,0.00,8.62,1.67,0.00,7\n"
     ]
    }
   ],
   "source": [
    "with open('glass.data','r') as f :\n",
    "    glass_data1 = csv.reader(f , delimiter = '\\n')\n",
    "    for lines in enumerate(glass_data1):\n",
    "        for i in (lines[1]):\n",
    "            print(i)\n",
    "            cursor.execute('insert into glassdata1 values ({values})'.format(values = (i)))\n",
    "    mydb1.commit()\n",
    "        \n",
    "        "
   ]
  },
  {
   "cell_type": "code",
   "execution_count": 76,
   "id": "74b2f96c",
   "metadata": {},
   "outputs": [
    {
     "data": {
      "text/plain": [
       "'C:\\\\Users\\\\sayya'"
      ]
     },
     "execution_count": 76,
     "metadata": {},
     "output_type": "execute_result"
    }
   ],
   "source": [
    "pwd()"
   ]
  },
  {
   "cell_type": "code",
   "execution_count": 121,
   "id": "4ab30b17",
   "metadata": {},
   "outputs": [
    {
     "name": "stdout",
     "output_type": "stream",
     "text": [
      "<_csv.reader object at 0x0000023984F8CD00>\n",
      "(0, ['1,1.52101,13.64,4.49,1.10,71.78,0.06,8.75,0.00,0.00,1'])\n",
      "(1, ['2,1.51761,13.89,3.60,1.36,72.73,0.48,7.83,0.00,0.00,1'])\n",
      "(2, ['3,1.51618,13.53,3.55,1.54,72.99,0.39,7.78,0.00,0.00,1'])\n",
      "(3, ['4,1.51766,13.21,3.69,1.29,72.61,0.57,8.22,0.00,0.00,1'])\n",
      "(4, ['5,1.51742,13.27,3.62,1.24,73.08,0.55,8.07,0.00,0.00,1'])\n",
      "(5, ['6,1.51596,12.79,3.61,1.62,72.97,0.64,8.07,0.00,0.26,1'])\n",
      "(6, ['7,1.51743,13.30,3.60,1.14,73.09,0.58,8.17,0.00,0.00,1'])\n",
      "(7, ['8,1.51756,13.15,3.61,1.05,73.24,0.57,8.24,0.00,0.00,1'])\n",
      "(8, ['9,1.51918,14.04,3.58,1.37,72.08,0.56,8.30,0.00,0.00,1'])\n",
      "(9, ['10,1.51755,13.00,3.60,1.36,72.99,0.57,8.40,0.00,0.11,1'])\n",
      "(10, ['11,1.51571,12.72,3.46,1.56,73.20,0.67,8.09,0.00,0.24,1'])\n",
      "(11, ['12,1.51763,12.80,3.66,1.27,73.01,0.60,8.56,0.00,0.00,1'])\n",
      "(12, ['13,1.51589,12.88,3.43,1.40,73.28,0.69,8.05,0.00,0.24,1'])\n",
      "(13, ['14,1.51748,12.86,3.56,1.27,73.21,0.54,8.38,0.00,0.17,1'])\n",
      "(14, ['15,1.51763,12.61,3.59,1.31,73.29,0.58,8.50,0.00,0.00,1'])\n",
      "(15, ['16,1.51761,12.81,3.54,1.23,73.24,0.58,8.39,0.00,0.00,1'])\n",
      "(16, ['17,1.51784,12.68,3.67,1.16,73.11,0.61,8.70,0.00,0.00,1'])\n",
      "(17, ['18,1.52196,14.36,3.85,0.89,71.36,0.15,9.15,0.00,0.00,1'])\n",
      "(18, ['19,1.51911,13.90,3.73,1.18,72.12,0.06,8.89,0.00,0.00,1'])\n",
      "(19, ['20,1.51735,13.02,3.54,1.69,72.73,0.54,8.44,0.00,0.07,1'])\n",
      "(20, ['21,1.51750,12.82,3.55,1.49,72.75,0.54,8.52,0.00,0.19,1'])\n",
      "(21, ['22,1.51966,14.77,3.75,0.29,72.02,0.03,9.00,0.00,0.00,1'])\n",
      "(22, ['23,1.51736,12.78,3.62,1.29,72.79,0.59,8.70,0.00,0.00,1'])\n",
      "(23, ['24,1.51751,12.81,3.57,1.35,73.02,0.62,8.59,0.00,0.00,1'])\n",
      "(24, ['25,1.51720,13.38,3.50,1.15,72.85,0.50,8.43,0.00,0.00,1'])\n",
      "(25, ['26,1.51764,12.98,3.54,1.21,73.00,0.65,8.53,0.00,0.00,1'])\n",
      "(26, ['27,1.51793,13.21,3.48,1.41,72.64,0.59,8.43,0.00,0.00,1'])\n",
      "(27, ['28,1.51721,12.87,3.48,1.33,73.04,0.56,8.43,0.00,0.00,1'])\n",
      "(28, ['29,1.51768,12.56,3.52,1.43,73.15,0.57,8.54,0.00,0.00,1'])\n",
      "(29, ['30,1.51784,13.08,3.49,1.28,72.86,0.60,8.49,0.00,0.00,1'])\n",
      "(30, ['31,1.51768,12.65,3.56,1.30,73.08,0.61,8.69,0.00,0.14,1'])\n",
      "(31, ['32,1.51747,12.84,3.50,1.14,73.27,0.56,8.55,0.00,0.00,1'])\n",
      "(32, ['33,1.51775,12.85,3.48,1.23,72.97,0.61,8.56,0.09,0.22,1'])\n",
      "(33, ['34,1.51753,12.57,3.47,1.38,73.39,0.60,8.55,0.00,0.06,1'])\n",
      "(34, ['35,1.51783,12.69,3.54,1.34,72.95,0.57,8.75,0.00,0.00,1'])\n",
      "(35, ['36,1.51567,13.29,3.45,1.21,72.74,0.56,8.57,0.00,0.00,1'])\n",
      "(36, ['37,1.51909,13.89,3.53,1.32,71.81,0.51,8.78,0.11,0.00,1'])\n",
      "(37, ['38,1.51797,12.74,3.48,1.35,72.96,0.64,8.68,0.00,0.00,1'])\n",
      "(38, ['39,1.52213,14.21,3.82,0.47,71.77,0.11,9.57,0.00,0.00,1'])\n",
      "(39, ['40,1.52213,14.21,3.82,0.47,71.77,0.11,9.57,0.00,0.00,1'])\n",
      "(40, ['41,1.51793,12.79,3.50,1.12,73.03,0.64,8.77,0.00,0.00,1'])\n",
      "(41, ['42,1.51755,12.71,3.42,1.20,73.20,0.59,8.64,0.00,0.00,1'])\n",
      "(42, ['43,1.51779,13.21,3.39,1.33,72.76,0.59,8.59,0.00,0.00,1'])\n",
      "(43, ['44,1.52210,13.73,3.84,0.72,71.76,0.17,9.74,0.00,0.00,1'])\n",
      "(44, ['45,1.51786,12.73,3.43,1.19,72.95,0.62,8.76,0.00,0.30,1'])\n",
      "(45, ['46,1.51900,13.49,3.48,1.35,71.95,0.55,9.00,0.00,0.00,1'])\n",
      "(46, ['47,1.51869,13.19,3.37,1.18,72.72,0.57,8.83,0.00,0.16,1'])\n",
      "(47, ['48,1.52667,13.99,3.70,0.71,71.57,0.02,9.82,0.00,0.10,1'])\n",
      "(48, ['49,1.52223,13.21,3.77,0.79,71.99,0.13,10.02,0.00,0.00,1'])\n",
      "(49, ['50,1.51898,13.58,3.35,1.23,72.08,0.59,8.91,0.00,0.00,1'])\n",
      "(50, ['51,1.52320,13.72,3.72,0.51,71.75,0.09,10.06,0.00,0.16,1'])\n",
      "(51, ['52,1.51926,13.20,3.33,1.28,72.36,0.60,9.14,0.00,0.11,1'])\n",
      "(52, ['53,1.51808,13.43,2.87,1.19,72.84,0.55,9.03,0.00,0.00,1'])\n",
      "(53, ['54,1.51837,13.14,2.84,1.28,72.85,0.55,9.07,0.00,0.00,1'])\n",
      "(54, ['55,1.51778,13.21,2.81,1.29,72.98,0.51,9.02,0.00,0.09,1'])\n",
      "(55, ['56,1.51769,12.45,2.71,1.29,73.70,0.56,9.06,0.00,0.24,1'])\n",
      "(56, ['57,1.51215,12.99,3.47,1.12,72.98,0.62,8.35,0.00,0.31,1'])\n",
      "(57, ['58,1.51824,12.87,3.48,1.29,72.95,0.60,8.43,0.00,0.00,1'])\n",
      "(58, ['59,1.51754,13.48,3.74,1.17,72.99,0.59,8.03,0.00,0.00,1'])\n",
      "(59, ['60,1.51754,13.39,3.66,1.19,72.79,0.57,8.27,0.00,0.11,1'])\n",
      "(60, ['61,1.51905,13.60,3.62,1.11,72.64,0.14,8.76,0.00,0.00,1'])\n",
      "(61, ['62,1.51977,13.81,3.58,1.32,71.72,0.12,8.67,0.69,0.00,1'])\n",
      "(62, ['63,1.52172,13.51,3.86,0.88,71.79,0.23,9.54,0.00,0.11,1'])\n",
      "(63, ['64,1.52227,14.17,3.81,0.78,71.35,0.00,9.69,0.00,0.00,1'])\n",
      "(64, ['65,1.52172,13.48,3.74,0.90,72.01,0.18,9.61,0.00,0.07,1'])\n",
      "(65, ['66,1.52099,13.69,3.59,1.12,71.96,0.09,9.40,0.00,0.00,1'])\n",
      "(66, ['67,1.52152,13.05,3.65,0.87,72.22,0.19,9.85,0.00,0.17,1'])\n",
      "(67, ['68,1.52152,13.05,3.65,0.87,72.32,0.19,9.85,0.00,0.17,1'])\n",
      "(68, ['69,1.52152,13.12,3.58,0.90,72.20,0.23,9.82,0.00,0.16,1'])\n",
      "(69, ['70,1.52300,13.31,3.58,0.82,71.99,0.12,10.17,0.00,0.03,1'])\n",
      "(70, ['71,1.51574,14.86,3.67,1.74,71.87,0.16,7.36,0.00,0.12,2'])\n",
      "(71, ['72,1.51848,13.64,3.87,1.27,71.96,0.54,8.32,0.00,0.32,2'])\n",
      "(72, ['73,1.51593,13.09,3.59,1.52,73.10,0.67,7.83,0.00,0.00,2'])\n",
      "(73, ['74,1.51631,13.34,3.57,1.57,72.87,0.61,7.89,0.00,0.00,2'])\n",
      "(74, ['75,1.51596,13.02,3.56,1.54,73.11,0.72,7.90,0.00,0.00,2'])\n",
      "(75, ['76,1.51590,13.02,3.58,1.51,73.12,0.69,7.96,0.00,0.00,2'])\n",
      "(76, ['77,1.51645,13.44,3.61,1.54,72.39,0.66,8.03,0.00,0.00,2'])\n",
      "(77, ['78,1.51627,13.00,3.58,1.54,72.83,0.61,8.04,0.00,0.00,2'])\n",
      "(78, ['79,1.51613,13.92,3.52,1.25,72.88,0.37,7.94,0.00,0.14,2'])\n",
      "(79, ['80,1.51590,12.82,3.52,1.90,72.86,0.69,7.97,0.00,0.00,2'])\n",
      "(80, ['81,1.51592,12.86,3.52,2.12,72.66,0.69,7.97,0.00,0.00,2'])\n",
      "(81, ['82,1.51593,13.25,3.45,1.43,73.17,0.61,7.86,0.00,0.00,2'])\n",
      "(82, ['83,1.51646,13.41,3.55,1.25,72.81,0.68,8.10,0.00,0.00,2'])\n",
      "(83, ['84,1.51594,13.09,3.52,1.55,72.87,0.68,8.05,0.00,0.09,2'])\n",
      "(84, ['85,1.51409,14.25,3.09,2.08,72.28,1.10,7.08,0.00,0.00,2'])\n",
      "(85, ['86,1.51625,13.36,3.58,1.49,72.72,0.45,8.21,0.00,0.00,2'])\n",
      "(86, ['87,1.51569,13.24,3.49,1.47,73.25,0.38,8.03,0.00,0.00,2'])\n",
      "(87, ['88,1.51645,13.40,3.49,1.52,72.65,0.67,8.08,0.00,0.10,2'])\n",
      "(88, ['89,1.51618,13.01,3.50,1.48,72.89,0.60,8.12,0.00,0.00,2'])\n",
      "(89, ['90,1.51640,12.55,3.48,1.87,73.23,0.63,8.08,0.00,0.09,2'])\n",
      "(90, ['91,1.51841,12.93,3.74,1.11,72.28,0.64,8.96,0.00,0.22,2'])\n",
      "(91, ['92,1.51605,12.90,3.44,1.45,73.06,0.44,8.27,0.00,0.00,2'])\n",
      "(92, ['93,1.51588,13.12,3.41,1.58,73.26,0.07,8.39,0.00,0.19,2'])\n",
      "(93, ['94,1.51590,13.24,3.34,1.47,73.10,0.39,8.22,0.00,0.00,2'])\n",
      "(94, ['95,1.51629,12.71,3.33,1.49,73.28,0.67,8.24,0.00,0.00,2'])\n",
      "(95, ['96,1.51860,13.36,3.43,1.43,72.26,0.51,8.60,0.00,0.00,2'])\n",
      "(96, ['97,1.51841,13.02,3.62,1.06,72.34,0.64,9.13,0.00,0.15,2'])\n",
      "(97, ['98,1.51743,12.20,3.25,1.16,73.55,0.62,8.90,0.00,0.24,2'])\n",
      "(98, ['99,1.51689,12.67,2.88,1.71,73.21,0.73,8.54,0.00,0.00,2'])\n",
      "(99, ['100,1.51811,12.96,2.96,1.43,72.92,0.60,8.79,0.14,0.00,2'])\n",
      "(100, ['101,1.51655,12.75,2.85,1.44,73.27,0.57,8.79,0.11,0.22,2'])\n",
      "(101, ['102,1.51730,12.35,2.72,1.63,72.87,0.70,9.23,0.00,0.00,2'])\n",
      "(102, ['103,1.51820,12.62,2.76,0.83,73.81,0.35,9.42,0.00,0.20,2'])\n",
      "(103, ['104,1.52725,13.80,3.15,0.66,70.57,0.08,11.64,0.00,0.00,2'])\n",
      "(104, ['105,1.52410,13.83,2.90,1.17,71.15,0.08,10.79,0.00,0.00,2'])\n",
      "(105, ['106,1.52475,11.45,0.00,1.88,72.19,0.81,13.24,0.00,0.34,2'])\n",
      "(106, ['107,1.53125,10.73,0.00,2.10,69.81,0.58,13.30,3.15,0.28,2'])\n",
      "(107, ['108,1.53393,12.30,0.00,1.00,70.16,0.12,16.19,0.00,0.24,2'])\n",
      "(108, ['109,1.52222,14.43,0.00,1.00,72.67,0.10,11.52,0.00,0.08,2'])\n",
      "(109, ['110,1.51818,13.72,0.00,0.56,74.45,0.00,10.99,0.00,0.00,2'])\n",
      "(110, ['111,1.52664,11.23,0.00,0.77,73.21,0.00,14.68,0.00,0.00,2'])\n",
      "(111, ['112,1.52739,11.02,0.00,0.75,73.08,0.00,14.96,0.00,0.00,2'])\n",
      "(112, ['113,1.52777,12.64,0.00,0.67,72.02,0.06,14.40,0.00,0.00,2'])\n",
      "(113, ['114,1.51892,13.46,3.83,1.26,72.55,0.57,8.21,0.00,0.14,2'])\n",
      "(114, ['115,1.51847,13.10,3.97,1.19,72.44,0.60,8.43,0.00,0.00,2'])\n",
      "(115, ['116,1.51846,13.41,3.89,1.33,72.38,0.51,8.28,0.00,0.00,2'])\n",
      "(116, ['117,1.51829,13.24,3.90,1.41,72.33,0.55,8.31,0.00,0.10,2'])\n",
      "(117, ['118,1.51708,13.72,3.68,1.81,72.06,0.64,7.88,0.00,0.00,2'])\n",
      "(118, ['119,1.51673,13.30,3.64,1.53,72.53,0.65,8.03,0.00,0.29,2'])\n",
      "(119, ['120,1.51652,13.56,3.57,1.47,72.45,0.64,7.96,0.00,0.00,2'])\n",
      "(120, ['121,1.51844,13.25,3.76,1.32,72.40,0.58,8.42,0.00,0.00,2'])\n",
      "(121, ['122,1.51663,12.93,3.54,1.62,72.96,0.64,8.03,0.00,0.21,2'])\n",
      "(122, ['123,1.51687,13.23,3.54,1.48,72.84,0.56,8.10,0.00,0.00,2'])\n",
      "(123, ['124,1.51707,13.48,3.48,1.71,72.52,0.62,7.99,0.00,0.00,2'])\n",
      "(124, ['125,1.52177,13.20,3.68,1.15,72.75,0.54,8.52,0.00,0.00,2'])\n",
      "(125, ['126,1.51872,12.93,3.66,1.56,72.51,0.58,8.55,0.00,0.12,2'])\n",
      "(126, ['127,1.51667,12.94,3.61,1.26,72.75,0.56,8.60,0.00,0.00,2'])\n",
      "(127, ['128,1.52081,13.78,2.28,1.43,71.99,0.49,9.85,0.00,0.17,2'])\n",
      "(128, ['129,1.52068,13.55,2.09,1.67,72.18,0.53,9.57,0.27,0.17,2'])\n",
      "(129, ['130,1.52020,13.98,1.35,1.63,71.76,0.39,10.56,0.00,0.18,2'])\n",
      "(130, ['131,1.52177,13.75,1.01,1.36,72.19,0.33,11.14,0.00,0.00,2'])\n",
      "(131, ['132,1.52614,13.70,0.00,1.36,71.24,0.19,13.44,0.00,0.10,2'])\n",
      "(132, ['133,1.51813,13.43,3.98,1.18,72.49,0.58,8.15,0.00,0.00,2'])\n",
      "(133, ['134,1.51800,13.71,3.93,1.54,71.81,0.54,8.21,0.00,0.15,2'])\n",
      "(134, ['135,1.51811,13.33,3.85,1.25,72.78,0.52,8.12,0.00,0.00,2'])\n",
      "(135, ['136,1.51789,13.19,3.90,1.30,72.33,0.55,8.44,0.00,0.28,2'])\n",
      "(136, ['137,1.51806,13.00,3.80,1.08,73.07,0.56,8.38,0.00,0.12,2'])\n",
      "(137, ['138,1.51711,12.89,3.62,1.57,72.96,0.61,8.11,0.00,0.00,2'])\n",
      "(138, ['139,1.51674,12.79,3.52,1.54,73.36,0.66,7.90,0.00,0.00,2'])\n",
      "(139, ['140,1.51674,12.87,3.56,1.64,73.14,0.65,7.99,0.00,0.00,2'])\n",
      "(140, ['141,1.51690,13.33,3.54,1.61,72.54,0.68,8.11,0.00,0.00,2'])\n",
      "(141, ['142,1.51851,13.20,3.63,1.07,72.83,0.57,8.41,0.09,0.17,2'])\n",
      "(142, ['143,1.51662,12.85,3.51,1.44,73.01,0.68,8.23,0.06,0.25,2'])\n",
      "(143, ['144,1.51709,13.00,3.47,1.79,72.72,0.66,8.18,0.00,0.00,2'])\n",
      "(144, ['145,1.51660,12.99,3.18,1.23,72.97,0.58,8.81,0.00,0.24,2'])\n",
      "(145, ['146,1.51839,12.85,3.67,1.24,72.57,0.62,8.68,0.00,0.35,2'])\n",
      "(146, ['147,1.51769,13.65,3.66,1.11,72.77,0.11,8.60,0.00,0.00,3'])\n",
      "(147, ['148,1.51610,13.33,3.53,1.34,72.67,0.56,8.33,0.00,0.00,3'])\n",
      "(148, ['149,1.51670,13.24,3.57,1.38,72.70,0.56,8.44,0.00,0.10,3'])\n",
      "(149, ['150,1.51643,12.16,3.52,1.35,72.89,0.57,8.53,0.00,0.00,3'])\n",
      "(150, ['151,1.51665,13.14,3.45,1.76,72.48,0.60,8.38,0.00,0.17,3'])\n",
      "(151, ['152,1.52127,14.32,3.90,0.83,71.50,0.00,9.49,0.00,0.00,3'])\n",
      "(152, ['153,1.51779,13.64,3.65,0.65,73.00,0.06,8.93,0.00,0.00,3'])\n",
      "(153, ['154,1.51610,13.42,3.40,1.22,72.69,0.59,8.32,0.00,0.00,3'])\n",
      "(154, ['155,1.51694,12.86,3.58,1.31,72.61,0.61,8.79,0.00,0.00,3'])\n",
      "(155, ['156,1.51646,13.04,3.40,1.26,73.01,0.52,8.58,0.00,0.00,3'])\n",
      "(156, ['157,1.51655,13.41,3.39,1.28,72.64,0.52,8.65,0.00,0.00,3'])\n",
      "(157, ['158,1.52121,14.03,3.76,0.58,71.79,0.11,9.65,0.00,0.00,3'])\n",
      "(158, ['159,1.51776,13.53,3.41,1.52,72.04,0.58,8.79,0.00,0.00,3'])\n",
      "(159, ['160,1.51796,13.50,3.36,1.63,71.94,0.57,8.81,0.00,0.09,3'])\n",
      "(160, ['161,1.51832,13.33,3.34,1.54,72.14,0.56,8.99,0.00,0.00,3'])\n",
      "(161, ['162,1.51934,13.64,3.54,0.75,72.65,0.16,8.89,0.15,0.24,3'])\n",
      "(162, ['163,1.52211,14.19,3.78,0.91,71.36,0.23,9.14,0.00,0.37,3'])\n",
      "(163, ['164,1.51514,14.01,2.68,3.50,69.89,1.68,5.87,2.20,0.00,5'])\n",
      "(164, ['165,1.51915,12.73,1.85,1.86,72.69,0.60,10.09,0.00,0.00,5'])\n",
      "(165, ['166,1.52171,11.56,1.88,1.56,72.86,0.47,11.41,0.00,0.00,5'])\n",
      "(166, ['167,1.52151,11.03,1.71,1.56,73.44,0.58,11.62,0.00,0.00,5'])\n",
      "(167, ['168,1.51969,12.64,0.00,1.65,73.75,0.38,11.53,0.00,0.00,5'])\n",
      "(168, ['169,1.51666,12.86,0.00,1.83,73.88,0.97,10.17,0.00,0.00,5'])\n",
      "(169, ['170,1.51994,13.27,0.00,1.76,73.03,0.47,11.32,0.00,0.00,5'])\n",
      "(170, ['171,1.52369,13.44,0.00,1.58,72.22,0.32,12.24,0.00,0.00,5'])\n",
      "(171, ['172,1.51316,13.02,0.00,3.04,70.48,6.21,6.96,0.00,0.00,5'])\n",
      "(172, ['173,1.51321,13.00,0.00,3.02,70.70,6.21,6.93,0.00,0.00,5'])\n",
      "(173, ['174,1.52043,13.38,0.00,1.40,72.25,0.33,12.50,0.00,0.00,5'])\n",
      "(174, ['175,1.52058,12.85,1.61,2.17,72.18,0.76,9.70,0.24,0.51,5'])\n",
      "(175, ['176,1.52119,12.97,0.33,1.51,73.39,0.13,11.27,0.00,0.28,5'])\n",
      "(176, ['177,1.51905,14.00,2.39,1.56,72.37,0.00,9.57,0.00,0.00,6'])\n",
      "(177, ['178,1.51937,13.79,2.41,1.19,72.76,0.00,9.77,0.00,0.00,6'])\n",
      "(178, ['179,1.51829,14.46,2.24,1.62,72.38,0.00,9.26,0.00,0.00,6'])\n",
      "(179, ['180,1.51852,14.09,2.19,1.66,72.67,0.00,9.32,0.00,0.00,6'])\n",
      "(180, ['181,1.51299,14.40,1.74,1.54,74.55,0.00,7.59,0.00,0.00,6'])\n",
      "(181, ['182,1.51888,14.99,0.78,1.74,72.50,0.00,9.95,0.00,0.00,6'])\n",
      "(182, ['183,1.51916,14.15,0.00,2.09,72.74,0.00,10.88,0.00,0.00,6'])\n",
      "(183, ['184,1.51969,14.56,0.00,0.56,73.48,0.00,11.22,0.00,0.00,6'])\n",
      "(184, ['185,1.51115,17.38,0.00,0.34,75.41,0.00,6.65,0.00,0.00,6'])\n",
      "(185, ['186,1.51131,13.69,3.20,1.81,72.81,1.76,5.43,1.19,0.00,7'])\n",
      "(186, ['187,1.51838,14.32,3.26,2.22,71.25,1.46,5.79,1.63,0.00,7'])\n",
      "(187, ['188,1.52315,13.44,3.34,1.23,72.38,0.60,8.83,0.00,0.00,7'])\n",
      "(188, ['189,1.52247,14.86,2.20,2.06,70.26,0.76,9.76,0.00,0.00,7'])\n",
      "(189, ['190,1.52365,15.79,1.83,1.31,70.43,0.31,8.61,1.68,0.00,7'])\n",
      "(190, ['191,1.51613,13.88,1.78,1.79,73.10,0.00,8.67,0.76,0.00,7'])\n",
      "(191, ['192,1.51602,14.85,0.00,2.38,73.28,0.00,8.76,0.64,0.09,7'])\n",
      "(192, ['193,1.51623,14.20,0.00,2.79,73.46,0.04,9.04,0.40,0.09,7'])\n",
      "(193, ['194,1.51719,14.75,0.00,2.00,73.02,0.00,8.53,1.59,0.08,7'])\n",
      "(194, ['195,1.51683,14.56,0.00,1.98,73.29,0.00,8.52,1.57,0.07,7'])\n",
      "(195, ['196,1.51545,14.14,0.00,2.68,73.39,0.08,9.07,0.61,0.05,7'])\n",
      "(196, ['197,1.51556,13.87,0.00,2.54,73.23,0.14,9.41,0.81,0.01,7'])\n",
      "(197, ['198,1.51727,14.70,0.00,2.34,73.28,0.00,8.95,0.66,0.00,7'])\n",
      "(198, ['199,1.51531,14.38,0.00,2.66,73.10,0.04,9.08,0.64,0.00,7'])\n",
      "(199, ['200,1.51609,15.01,0.00,2.51,73.05,0.05,8.83,0.53,0.00,7'])\n",
      "(200, ['201,1.51508,15.15,0.00,2.25,73.50,0.00,8.34,0.63,0.00,7'])\n",
      "(201, ['202,1.51653,11.95,0.00,1.19,75.18,2.70,8.93,0.00,0.00,7'])\n",
      "(202, ['203,1.51514,14.85,0.00,2.42,73.72,0.00,8.39,0.56,0.00,7'])\n",
      "(203, ['204,1.51658,14.80,0.00,1.99,73.11,0.00,8.28,1.71,0.00,7'])\n",
      "(204, ['205,1.51617,14.95,0.00,2.27,73.30,0.00,8.71,0.67,0.00,7'])\n",
      "(205, ['206,1.51732,14.95,0.00,1.80,72.99,0.00,8.61,1.55,0.00,7'])\n",
      "(206, ['207,1.51645,14.94,0.00,1.87,73.11,0.00,8.67,1.38,0.00,7'])\n",
      "(207, ['208,1.51831,14.39,0.00,1.82,72.86,1.41,6.47,2.88,0.00,7'])\n",
      "(208, ['209,1.51640,14.37,0.00,2.74,72.85,0.00,9.45,0.54,0.00,7'])\n",
      "(209, ['210,1.51623,14.14,0.00,2.88,72.61,0.08,9.18,1.06,0.00,7'])\n",
      "(210, ['211,1.51685,14.92,0.00,1.99,73.06,0.00,8.40,1.59,0.00,7'])\n",
      "(211, ['212,1.52065,14.36,0.00,2.02,73.42,0.00,8.44,1.64,0.00,7'])\n",
      "(212, ['213,1.51651,14.38,0.00,1.94,73.61,0.00,8.48,1.57,0.00,7'])\n",
      "(213, ['214,1.51711,14.23,0.00,2.08,73.36,0.00,8.62,1.67,0.00,7'])\n"
     ]
    }
   ],
   "source": [
    "with open('glass.data','r') as f :\n",
    "    glass_data1 = csv.reader(f , delimiter = '\\n')\n",
    "    print(glass_data1)\n",
    "    for i in enumerate(glass_data1):\n",
    "        print(i)"
   ]
  },
  {
   "cell_type": "code",
   "execution_count": 119,
   "id": "d2ae9031",
   "metadata": {
    "scrolled": true
   },
   "outputs": [
    {
     "name": "stdout",
     "output_type": "stream",
     "text": [
      "<_csv.reader object at 0x0000023984F92880>\n"
     ]
    }
   ],
   "source": [
    "with open('glass.data','r') as f :\n",
    "    glass_data1 = csv.reader(f , delimiter = '\\n')\n",
    "    print(glass_data1)"
   ]
  },
  {
   "cell_type": "code",
   "execution_count": 122,
   "id": "493c564c",
   "metadata": {},
   "outputs": [
    {
     "name": "stdout",
     "output_type": "stream",
     "text": [
      "['1,1.52101,13.64,4.49,1.10,71.78,0.06,8.75,0.00,0.00,1']\n",
      "['2,1.51761,13.89,3.60,1.36,72.73,0.48,7.83,0.00,0.00,1']\n",
      "['3,1.51618,13.53,3.55,1.54,72.99,0.39,7.78,0.00,0.00,1']\n",
      "['4,1.51766,13.21,3.69,1.29,72.61,0.57,8.22,0.00,0.00,1']\n",
      "['5,1.51742,13.27,3.62,1.24,73.08,0.55,8.07,0.00,0.00,1']\n",
      "['6,1.51596,12.79,3.61,1.62,72.97,0.64,8.07,0.00,0.26,1']\n",
      "['7,1.51743,13.30,3.60,1.14,73.09,0.58,8.17,0.00,0.00,1']\n",
      "['8,1.51756,13.15,3.61,1.05,73.24,0.57,8.24,0.00,0.00,1']\n",
      "['9,1.51918,14.04,3.58,1.37,72.08,0.56,8.30,0.00,0.00,1']\n",
      "['10,1.51755,13.00,3.60,1.36,72.99,0.57,8.40,0.00,0.11,1']\n",
      "['11,1.51571,12.72,3.46,1.56,73.20,0.67,8.09,0.00,0.24,1']\n",
      "['12,1.51763,12.80,3.66,1.27,73.01,0.60,8.56,0.00,0.00,1']\n",
      "['13,1.51589,12.88,3.43,1.40,73.28,0.69,8.05,0.00,0.24,1']\n",
      "['14,1.51748,12.86,3.56,1.27,73.21,0.54,8.38,0.00,0.17,1']\n",
      "['15,1.51763,12.61,3.59,1.31,73.29,0.58,8.50,0.00,0.00,1']\n",
      "['16,1.51761,12.81,3.54,1.23,73.24,0.58,8.39,0.00,0.00,1']\n",
      "['17,1.51784,12.68,3.67,1.16,73.11,0.61,8.70,0.00,0.00,1']\n",
      "['18,1.52196,14.36,3.85,0.89,71.36,0.15,9.15,0.00,0.00,1']\n",
      "['19,1.51911,13.90,3.73,1.18,72.12,0.06,8.89,0.00,0.00,1']\n",
      "['20,1.51735,13.02,3.54,1.69,72.73,0.54,8.44,0.00,0.07,1']\n",
      "['21,1.51750,12.82,3.55,1.49,72.75,0.54,8.52,0.00,0.19,1']\n",
      "['22,1.51966,14.77,3.75,0.29,72.02,0.03,9.00,0.00,0.00,1']\n",
      "['23,1.51736,12.78,3.62,1.29,72.79,0.59,8.70,0.00,0.00,1']\n",
      "['24,1.51751,12.81,3.57,1.35,73.02,0.62,8.59,0.00,0.00,1']\n",
      "['25,1.51720,13.38,3.50,1.15,72.85,0.50,8.43,0.00,0.00,1']\n",
      "['26,1.51764,12.98,3.54,1.21,73.00,0.65,8.53,0.00,0.00,1']\n",
      "['27,1.51793,13.21,3.48,1.41,72.64,0.59,8.43,0.00,0.00,1']\n",
      "['28,1.51721,12.87,3.48,1.33,73.04,0.56,8.43,0.00,0.00,1']\n",
      "['29,1.51768,12.56,3.52,1.43,73.15,0.57,8.54,0.00,0.00,1']\n",
      "['30,1.51784,13.08,3.49,1.28,72.86,0.60,8.49,0.00,0.00,1']\n",
      "['31,1.51768,12.65,3.56,1.30,73.08,0.61,8.69,0.00,0.14,1']\n",
      "['32,1.51747,12.84,3.50,1.14,73.27,0.56,8.55,0.00,0.00,1']\n",
      "['33,1.51775,12.85,3.48,1.23,72.97,0.61,8.56,0.09,0.22,1']\n",
      "['34,1.51753,12.57,3.47,1.38,73.39,0.60,8.55,0.00,0.06,1']\n",
      "['35,1.51783,12.69,3.54,1.34,72.95,0.57,8.75,0.00,0.00,1']\n",
      "['36,1.51567,13.29,3.45,1.21,72.74,0.56,8.57,0.00,0.00,1']\n",
      "['37,1.51909,13.89,3.53,1.32,71.81,0.51,8.78,0.11,0.00,1']\n",
      "['38,1.51797,12.74,3.48,1.35,72.96,0.64,8.68,0.00,0.00,1']\n",
      "['39,1.52213,14.21,3.82,0.47,71.77,0.11,9.57,0.00,0.00,1']\n",
      "['40,1.52213,14.21,3.82,0.47,71.77,0.11,9.57,0.00,0.00,1']\n",
      "['41,1.51793,12.79,3.50,1.12,73.03,0.64,8.77,0.00,0.00,1']\n",
      "['42,1.51755,12.71,3.42,1.20,73.20,0.59,8.64,0.00,0.00,1']\n",
      "['43,1.51779,13.21,3.39,1.33,72.76,0.59,8.59,0.00,0.00,1']\n",
      "['44,1.52210,13.73,3.84,0.72,71.76,0.17,9.74,0.00,0.00,1']\n",
      "['45,1.51786,12.73,3.43,1.19,72.95,0.62,8.76,0.00,0.30,1']\n",
      "['46,1.51900,13.49,3.48,1.35,71.95,0.55,9.00,0.00,0.00,1']\n",
      "['47,1.51869,13.19,3.37,1.18,72.72,0.57,8.83,0.00,0.16,1']\n",
      "['48,1.52667,13.99,3.70,0.71,71.57,0.02,9.82,0.00,0.10,1']\n",
      "['49,1.52223,13.21,3.77,0.79,71.99,0.13,10.02,0.00,0.00,1']\n",
      "['50,1.51898,13.58,3.35,1.23,72.08,0.59,8.91,0.00,0.00,1']\n",
      "['51,1.52320,13.72,3.72,0.51,71.75,0.09,10.06,0.00,0.16,1']\n",
      "['52,1.51926,13.20,3.33,1.28,72.36,0.60,9.14,0.00,0.11,1']\n",
      "['53,1.51808,13.43,2.87,1.19,72.84,0.55,9.03,0.00,0.00,1']\n",
      "['54,1.51837,13.14,2.84,1.28,72.85,0.55,9.07,0.00,0.00,1']\n",
      "['55,1.51778,13.21,2.81,1.29,72.98,0.51,9.02,0.00,0.09,1']\n",
      "['56,1.51769,12.45,2.71,1.29,73.70,0.56,9.06,0.00,0.24,1']\n",
      "['57,1.51215,12.99,3.47,1.12,72.98,0.62,8.35,0.00,0.31,1']\n",
      "['58,1.51824,12.87,3.48,1.29,72.95,0.60,8.43,0.00,0.00,1']\n",
      "['59,1.51754,13.48,3.74,1.17,72.99,0.59,8.03,0.00,0.00,1']\n",
      "['60,1.51754,13.39,3.66,1.19,72.79,0.57,8.27,0.00,0.11,1']\n",
      "['61,1.51905,13.60,3.62,1.11,72.64,0.14,8.76,0.00,0.00,1']\n",
      "['62,1.51977,13.81,3.58,1.32,71.72,0.12,8.67,0.69,0.00,1']\n",
      "['63,1.52172,13.51,3.86,0.88,71.79,0.23,9.54,0.00,0.11,1']\n",
      "['64,1.52227,14.17,3.81,0.78,71.35,0.00,9.69,0.00,0.00,1']\n",
      "['65,1.52172,13.48,3.74,0.90,72.01,0.18,9.61,0.00,0.07,1']\n",
      "['66,1.52099,13.69,3.59,1.12,71.96,0.09,9.40,0.00,0.00,1']\n",
      "['67,1.52152,13.05,3.65,0.87,72.22,0.19,9.85,0.00,0.17,1']\n",
      "['68,1.52152,13.05,3.65,0.87,72.32,0.19,9.85,0.00,0.17,1']\n",
      "['69,1.52152,13.12,3.58,0.90,72.20,0.23,9.82,0.00,0.16,1']\n",
      "['70,1.52300,13.31,3.58,0.82,71.99,0.12,10.17,0.00,0.03,1']\n",
      "['71,1.51574,14.86,3.67,1.74,71.87,0.16,7.36,0.00,0.12,2']\n",
      "['72,1.51848,13.64,3.87,1.27,71.96,0.54,8.32,0.00,0.32,2']\n",
      "['73,1.51593,13.09,3.59,1.52,73.10,0.67,7.83,0.00,0.00,2']\n",
      "['74,1.51631,13.34,3.57,1.57,72.87,0.61,7.89,0.00,0.00,2']\n",
      "['75,1.51596,13.02,3.56,1.54,73.11,0.72,7.90,0.00,0.00,2']\n",
      "['76,1.51590,13.02,3.58,1.51,73.12,0.69,7.96,0.00,0.00,2']\n",
      "['77,1.51645,13.44,3.61,1.54,72.39,0.66,8.03,0.00,0.00,2']\n",
      "['78,1.51627,13.00,3.58,1.54,72.83,0.61,8.04,0.00,0.00,2']\n",
      "['79,1.51613,13.92,3.52,1.25,72.88,0.37,7.94,0.00,0.14,2']\n",
      "['80,1.51590,12.82,3.52,1.90,72.86,0.69,7.97,0.00,0.00,2']\n",
      "['81,1.51592,12.86,3.52,2.12,72.66,0.69,7.97,0.00,0.00,2']\n",
      "['82,1.51593,13.25,3.45,1.43,73.17,0.61,7.86,0.00,0.00,2']\n",
      "['83,1.51646,13.41,3.55,1.25,72.81,0.68,8.10,0.00,0.00,2']\n",
      "['84,1.51594,13.09,3.52,1.55,72.87,0.68,8.05,0.00,0.09,2']\n",
      "['85,1.51409,14.25,3.09,2.08,72.28,1.10,7.08,0.00,0.00,2']\n",
      "['86,1.51625,13.36,3.58,1.49,72.72,0.45,8.21,0.00,0.00,2']\n",
      "['87,1.51569,13.24,3.49,1.47,73.25,0.38,8.03,0.00,0.00,2']\n",
      "['88,1.51645,13.40,3.49,1.52,72.65,0.67,8.08,0.00,0.10,2']\n",
      "['89,1.51618,13.01,3.50,1.48,72.89,0.60,8.12,0.00,0.00,2']\n",
      "['90,1.51640,12.55,3.48,1.87,73.23,0.63,8.08,0.00,0.09,2']\n",
      "['91,1.51841,12.93,3.74,1.11,72.28,0.64,8.96,0.00,0.22,2']\n",
      "['92,1.51605,12.90,3.44,1.45,73.06,0.44,8.27,0.00,0.00,2']\n",
      "['93,1.51588,13.12,3.41,1.58,73.26,0.07,8.39,0.00,0.19,2']\n",
      "['94,1.51590,13.24,3.34,1.47,73.10,0.39,8.22,0.00,0.00,2']\n",
      "['95,1.51629,12.71,3.33,1.49,73.28,0.67,8.24,0.00,0.00,2']\n",
      "['96,1.51860,13.36,3.43,1.43,72.26,0.51,8.60,0.00,0.00,2']\n",
      "['97,1.51841,13.02,3.62,1.06,72.34,0.64,9.13,0.00,0.15,2']\n",
      "['98,1.51743,12.20,3.25,1.16,73.55,0.62,8.90,0.00,0.24,2']\n",
      "['99,1.51689,12.67,2.88,1.71,73.21,0.73,8.54,0.00,0.00,2']\n",
      "['100,1.51811,12.96,2.96,1.43,72.92,0.60,8.79,0.14,0.00,2']\n",
      "['101,1.51655,12.75,2.85,1.44,73.27,0.57,8.79,0.11,0.22,2']\n",
      "['102,1.51730,12.35,2.72,1.63,72.87,0.70,9.23,0.00,0.00,2']\n",
      "['103,1.51820,12.62,2.76,0.83,73.81,0.35,9.42,0.00,0.20,2']\n",
      "['104,1.52725,13.80,3.15,0.66,70.57,0.08,11.64,0.00,0.00,2']\n",
      "['105,1.52410,13.83,2.90,1.17,71.15,0.08,10.79,0.00,0.00,2']\n",
      "['106,1.52475,11.45,0.00,1.88,72.19,0.81,13.24,0.00,0.34,2']\n",
      "['107,1.53125,10.73,0.00,2.10,69.81,0.58,13.30,3.15,0.28,2']\n",
      "['108,1.53393,12.30,0.00,1.00,70.16,0.12,16.19,0.00,0.24,2']\n",
      "['109,1.52222,14.43,0.00,1.00,72.67,0.10,11.52,0.00,0.08,2']\n",
      "['110,1.51818,13.72,0.00,0.56,74.45,0.00,10.99,0.00,0.00,2']\n",
      "['111,1.52664,11.23,0.00,0.77,73.21,0.00,14.68,0.00,0.00,2']\n",
      "['112,1.52739,11.02,0.00,0.75,73.08,0.00,14.96,0.00,0.00,2']\n",
      "['113,1.52777,12.64,0.00,0.67,72.02,0.06,14.40,0.00,0.00,2']\n",
      "['114,1.51892,13.46,3.83,1.26,72.55,0.57,8.21,0.00,0.14,2']\n",
      "['115,1.51847,13.10,3.97,1.19,72.44,0.60,8.43,0.00,0.00,2']\n",
      "['116,1.51846,13.41,3.89,1.33,72.38,0.51,8.28,0.00,0.00,2']\n",
      "['117,1.51829,13.24,3.90,1.41,72.33,0.55,8.31,0.00,0.10,2']\n",
      "['118,1.51708,13.72,3.68,1.81,72.06,0.64,7.88,0.00,0.00,2']\n",
      "['119,1.51673,13.30,3.64,1.53,72.53,0.65,8.03,0.00,0.29,2']\n",
      "['120,1.51652,13.56,3.57,1.47,72.45,0.64,7.96,0.00,0.00,2']\n",
      "['121,1.51844,13.25,3.76,1.32,72.40,0.58,8.42,0.00,0.00,2']\n",
      "['122,1.51663,12.93,3.54,1.62,72.96,0.64,8.03,0.00,0.21,2']\n",
      "['123,1.51687,13.23,3.54,1.48,72.84,0.56,8.10,0.00,0.00,2']\n",
      "['124,1.51707,13.48,3.48,1.71,72.52,0.62,7.99,0.00,0.00,2']\n",
      "['125,1.52177,13.20,3.68,1.15,72.75,0.54,8.52,0.00,0.00,2']\n",
      "['126,1.51872,12.93,3.66,1.56,72.51,0.58,8.55,0.00,0.12,2']\n",
      "['127,1.51667,12.94,3.61,1.26,72.75,0.56,8.60,0.00,0.00,2']\n",
      "['128,1.52081,13.78,2.28,1.43,71.99,0.49,9.85,0.00,0.17,2']\n",
      "['129,1.52068,13.55,2.09,1.67,72.18,0.53,9.57,0.27,0.17,2']\n",
      "['130,1.52020,13.98,1.35,1.63,71.76,0.39,10.56,0.00,0.18,2']\n",
      "['131,1.52177,13.75,1.01,1.36,72.19,0.33,11.14,0.00,0.00,2']\n",
      "['132,1.52614,13.70,0.00,1.36,71.24,0.19,13.44,0.00,0.10,2']\n",
      "['133,1.51813,13.43,3.98,1.18,72.49,0.58,8.15,0.00,0.00,2']\n",
      "['134,1.51800,13.71,3.93,1.54,71.81,0.54,8.21,0.00,0.15,2']\n",
      "['135,1.51811,13.33,3.85,1.25,72.78,0.52,8.12,0.00,0.00,2']\n",
      "['136,1.51789,13.19,3.90,1.30,72.33,0.55,8.44,0.00,0.28,2']\n",
      "['137,1.51806,13.00,3.80,1.08,73.07,0.56,8.38,0.00,0.12,2']\n",
      "['138,1.51711,12.89,3.62,1.57,72.96,0.61,8.11,0.00,0.00,2']\n",
      "['139,1.51674,12.79,3.52,1.54,73.36,0.66,7.90,0.00,0.00,2']\n",
      "['140,1.51674,12.87,3.56,1.64,73.14,0.65,7.99,0.00,0.00,2']\n",
      "['141,1.51690,13.33,3.54,1.61,72.54,0.68,8.11,0.00,0.00,2']\n",
      "['142,1.51851,13.20,3.63,1.07,72.83,0.57,8.41,0.09,0.17,2']\n",
      "['143,1.51662,12.85,3.51,1.44,73.01,0.68,8.23,0.06,0.25,2']\n",
      "['144,1.51709,13.00,3.47,1.79,72.72,0.66,8.18,0.00,0.00,2']\n",
      "['145,1.51660,12.99,3.18,1.23,72.97,0.58,8.81,0.00,0.24,2']\n",
      "['146,1.51839,12.85,3.67,1.24,72.57,0.62,8.68,0.00,0.35,2']\n",
      "['147,1.51769,13.65,3.66,1.11,72.77,0.11,8.60,0.00,0.00,3']\n",
      "['148,1.51610,13.33,3.53,1.34,72.67,0.56,8.33,0.00,0.00,3']\n",
      "['149,1.51670,13.24,3.57,1.38,72.70,0.56,8.44,0.00,0.10,3']\n",
      "['150,1.51643,12.16,3.52,1.35,72.89,0.57,8.53,0.00,0.00,3']\n",
      "['151,1.51665,13.14,3.45,1.76,72.48,0.60,8.38,0.00,0.17,3']\n",
      "['152,1.52127,14.32,3.90,0.83,71.50,0.00,9.49,0.00,0.00,3']\n",
      "['153,1.51779,13.64,3.65,0.65,73.00,0.06,8.93,0.00,0.00,3']\n",
      "['154,1.51610,13.42,3.40,1.22,72.69,0.59,8.32,0.00,0.00,3']\n",
      "['155,1.51694,12.86,3.58,1.31,72.61,0.61,8.79,0.00,0.00,3']\n",
      "['156,1.51646,13.04,3.40,1.26,73.01,0.52,8.58,0.00,0.00,3']\n",
      "['157,1.51655,13.41,3.39,1.28,72.64,0.52,8.65,0.00,0.00,3']\n",
      "['158,1.52121,14.03,3.76,0.58,71.79,0.11,9.65,0.00,0.00,3']\n",
      "['159,1.51776,13.53,3.41,1.52,72.04,0.58,8.79,0.00,0.00,3']\n",
      "['160,1.51796,13.50,3.36,1.63,71.94,0.57,8.81,0.00,0.09,3']\n",
      "['161,1.51832,13.33,3.34,1.54,72.14,0.56,8.99,0.00,0.00,3']\n",
      "['162,1.51934,13.64,3.54,0.75,72.65,0.16,8.89,0.15,0.24,3']\n",
      "['163,1.52211,14.19,3.78,0.91,71.36,0.23,9.14,0.00,0.37,3']\n",
      "['164,1.51514,14.01,2.68,3.50,69.89,1.68,5.87,2.20,0.00,5']\n",
      "['165,1.51915,12.73,1.85,1.86,72.69,0.60,10.09,0.00,0.00,5']\n",
      "['166,1.52171,11.56,1.88,1.56,72.86,0.47,11.41,0.00,0.00,5']\n",
      "['167,1.52151,11.03,1.71,1.56,73.44,0.58,11.62,0.00,0.00,5']\n",
      "['168,1.51969,12.64,0.00,1.65,73.75,0.38,11.53,0.00,0.00,5']\n",
      "['169,1.51666,12.86,0.00,1.83,73.88,0.97,10.17,0.00,0.00,5']\n",
      "['170,1.51994,13.27,0.00,1.76,73.03,0.47,11.32,0.00,0.00,5']\n",
      "['171,1.52369,13.44,0.00,1.58,72.22,0.32,12.24,0.00,0.00,5']\n",
      "['172,1.51316,13.02,0.00,3.04,70.48,6.21,6.96,0.00,0.00,5']\n",
      "['173,1.51321,13.00,0.00,3.02,70.70,6.21,6.93,0.00,0.00,5']\n",
      "['174,1.52043,13.38,0.00,1.40,72.25,0.33,12.50,0.00,0.00,5']\n",
      "['175,1.52058,12.85,1.61,2.17,72.18,0.76,9.70,0.24,0.51,5']\n",
      "['176,1.52119,12.97,0.33,1.51,73.39,0.13,11.27,0.00,0.28,5']\n",
      "['177,1.51905,14.00,2.39,1.56,72.37,0.00,9.57,0.00,0.00,6']\n",
      "['178,1.51937,13.79,2.41,1.19,72.76,0.00,9.77,0.00,0.00,6']\n",
      "['179,1.51829,14.46,2.24,1.62,72.38,0.00,9.26,0.00,0.00,6']\n",
      "['180,1.51852,14.09,2.19,1.66,72.67,0.00,9.32,0.00,0.00,6']\n",
      "['181,1.51299,14.40,1.74,1.54,74.55,0.00,7.59,0.00,0.00,6']\n",
      "['182,1.51888,14.99,0.78,1.74,72.50,0.00,9.95,0.00,0.00,6']\n",
      "['183,1.51916,14.15,0.00,2.09,72.74,0.00,10.88,0.00,0.00,6']\n",
      "['184,1.51969,14.56,0.00,0.56,73.48,0.00,11.22,0.00,0.00,6']\n",
      "['185,1.51115,17.38,0.00,0.34,75.41,0.00,6.65,0.00,0.00,6']\n",
      "['186,1.51131,13.69,3.20,1.81,72.81,1.76,5.43,1.19,0.00,7']\n",
      "['187,1.51838,14.32,3.26,2.22,71.25,1.46,5.79,1.63,0.00,7']\n",
      "['188,1.52315,13.44,3.34,1.23,72.38,0.60,8.83,0.00,0.00,7']\n",
      "['189,1.52247,14.86,2.20,2.06,70.26,0.76,9.76,0.00,0.00,7']\n",
      "['190,1.52365,15.79,1.83,1.31,70.43,0.31,8.61,1.68,0.00,7']\n",
      "['191,1.51613,13.88,1.78,1.79,73.10,0.00,8.67,0.76,0.00,7']\n",
      "['192,1.51602,14.85,0.00,2.38,73.28,0.00,8.76,0.64,0.09,7']\n",
      "['193,1.51623,14.20,0.00,2.79,73.46,0.04,9.04,0.40,0.09,7']\n",
      "['194,1.51719,14.75,0.00,2.00,73.02,0.00,8.53,1.59,0.08,7']\n",
      "['195,1.51683,14.56,0.00,1.98,73.29,0.00,8.52,1.57,0.07,7']\n",
      "['196,1.51545,14.14,0.00,2.68,73.39,0.08,9.07,0.61,0.05,7']\n",
      "['197,1.51556,13.87,0.00,2.54,73.23,0.14,9.41,0.81,0.01,7']\n",
      "['198,1.51727,14.70,0.00,2.34,73.28,0.00,8.95,0.66,0.00,7']\n",
      "['199,1.51531,14.38,0.00,2.66,73.10,0.04,9.08,0.64,0.00,7']\n",
      "['200,1.51609,15.01,0.00,2.51,73.05,0.05,8.83,0.53,0.00,7']\n",
      "['201,1.51508,15.15,0.00,2.25,73.50,0.00,8.34,0.63,0.00,7']\n",
      "['202,1.51653,11.95,0.00,1.19,75.18,2.70,8.93,0.00,0.00,7']\n",
      "['203,1.51514,14.85,0.00,2.42,73.72,0.00,8.39,0.56,0.00,7']\n",
      "['204,1.51658,14.80,0.00,1.99,73.11,0.00,8.28,1.71,0.00,7']\n",
      "['205,1.51617,14.95,0.00,2.27,73.30,0.00,8.71,0.67,0.00,7']\n",
      "['206,1.51732,14.95,0.00,1.80,72.99,0.00,8.61,1.55,0.00,7']\n",
      "['207,1.51645,14.94,0.00,1.87,73.11,0.00,8.67,1.38,0.00,7']\n",
      "['208,1.51831,14.39,0.00,1.82,72.86,1.41,6.47,2.88,0.00,7']\n",
      "['209,1.51640,14.37,0.00,2.74,72.85,0.00,9.45,0.54,0.00,7']\n",
      "['210,1.51623,14.14,0.00,2.88,72.61,0.08,9.18,1.06,0.00,7']\n",
      "['211,1.51685,14.92,0.00,1.99,73.06,0.00,8.40,1.59,0.00,7']\n",
      "['212,1.52065,14.36,0.00,2.02,73.42,0.00,8.44,1.64,0.00,7']\n",
      "['213,1.51651,14.38,0.00,1.94,73.61,0.00,8.48,1.57,0.00,7']\n",
      "['214,1.51711,14.23,0.00,2.08,73.36,0.00,8.62,1.67,0.00,7']\n"
     ]
    }
   ],
   "source": [
    "with open('glass.data','r') as f :\n",
    "    glass_data1 = csv.reader(f , delimiter = '\\n')\n",
    "    #print(enumerate(glass_data))\n",
    "    for lines in enumerate(glass_data1):\n",
    "        for list_ in (lines[1]):\n",
    "            print(lines[1])"
   ]
  },
  {
   "cell_type": "code",
   "execution_count": 123,
   "id": "8f16fbc1",
   "metadata": {},
   "outputs": [],
   "source": [
    "cursor.execute('insert into glassdata1 values(1, 1.51753,12.57,3.47,1.38,73.39,0.60,8.55,0.00,0.06,1)')"
   ]
  },
  {
   "cell_type": "code",
   "execution_count": 124,
   "id": "1ea686c4",
   "metadata": {},
   "outputs": [],
   "source": [
    "mydb1.commit()"
   ]
  },
  {
   "cell_type": "code",
   "execution_count": 105,
   "id": "1483b61c",
   "metadata": {},
   "outputs": [],
   "source": [
    "import pandas as pd"
   ]
  },
  {
   "cell_type": "code",
   "execution_count": 106,
   "id": "ef951abf",
   "metadata": {},
   "outputs": [
    {
     "data": {
      "text/html": [
       "<div>\n",
       "<style scoped>\n",
       "    .dataframe tbody tr th:only-of-type {\n",
       "        vertical-align: middle;\n",
       "    }\n",
       "\n",
       "    .dataframe tbody tr th {\n",
       "        vertical-align: top;\n",
       "    }\n",
       "\n",
       "    .dataframe thead th {\n",
       "        text-align: right;\n",
       "    }\n",
       "</style>\n",
       "<table border=\"1\" class=\"dataframe\">\n",
       "  <thead>\n",
       "    <tr style=\"text-align: right;\">\n",
       "      <th></th>\n",
       "      <th>index1</th>\n",
       "      <th>RI</th>\n",
       "      <th>Na</th>\n",
       "      <th>Mg</th>\n",
       "      <th>Al</th>\n",
       "      <th>Si</th>\n",
       "      <th>K</th>\n",
       "      <th>Ca</th>\n",
       "      <th>Ba</th>\n",
       "      <th>Fe</th>\n",
       "      <th>Class</th>\n",
       "    </tr>\n",
       "  </thead>\n",
       "  <tbody>\n",
       "    <tr>\n",
       "      <th>0</th>\n",
       "      <td>200</td>\n",
       "      <td>1.51761</td>\n",
       "      <td>13.89</td>\n",
       "      <td>3.60</td>\n",
       "      <td>1.36</td>\n",
       "      <td>72.73</td>\n",
       "      <td>0.48</td>\n",
       "      <td>7.83</td>\n",
       "      <td>0.00</td>\n",
       "      <td>0.00</td>\n",
       "      <td>1</td>\n",
       "    </tr>\n",
       "    <tr>\n",
       "      <th>1</th>\n",
       "      <td>3</td>\n",
       "      <td>1.51618</td>\n",
       "      <td>13.53</td>\n",
       "      <td>3.55</td>\n",
       "      <td>1.54</td>\n",
       "      <td>72.99</td>\n",
       "      <td>0.39</td>\n",
       "      <td>7.78</td>\n",
       "      <td>0.00</td>\n",
       "      <td>0.00</td>\n",
       "      <td>1</td>\n",
       "    </tr>\n",
       "    <tr>\n",
       "      <th>2</th>\n",
       "      <td>4</td>\n",
       "      <td>1.51766</td>\n",
       "      <td>13.21</td>\n",
       "      <td>3.69</td>\n",
       "      <td>1.29</td>\n",
       "      <td>72.61</td>\n",
       "      <td>0.57</td>\n",
       "      <td>8.22</td>\n",
       "      <td>0.00</td>\n",
       "      <td>0.00</td>\n",
       "      <td>1</td>\n",
       "    </tr>\n",
       "    <tr>\n",
       "      <th>3</th>\n",
       "      <td>5</td>\n",
       "      <td>1.51742</td>\n",
       "      <td>13.27</td>\n",
       "      <td>3.62</td>\n",
       "      <td>1.24</td>\n",
       "      <td>73.08</td>\n",
       "      <td>0.55</td>\n",
       "      <td>8.07</td>\n",
       "      <td>0.00</td>\n",
       "      <td>0.00</td>\n",
       "      <td>1</td>\n",
       "    </tr>\n",
       "    <tr>\n",
       "      <th>4</th>\n",
       "      <td>6</td>\n",
       "      <td>1.51596</td>\n",
       "      <td>12.79</td>\n",
       "      <td>3.61</td>\n",
       "      <td>1.62</td>\n",
       "      <td>72.97</td>\n",
       "      <td>0.64</td>\n",
       "      <td>8.07</td>\n",
       "      <td>0.00</td>\n",
       "      <td>0.26</td>\n",
       "      <td>1</td>\n",
       "    </tr>\n",
       "    <tr>\n",
       "      <th>...</th>\n",
       "      <td>...</td>\n",
       "      <td>...</td>\n",
       "      <td>...</td>\n",
       "      <td>...</td>\n",
       "      <td>...</td>\n",
       "      <td>...</td>\n",
       "      <td>...</td>\n",
       "      <td>...</td>\n",
       "      <td>...</td>\n",
       "      <td>...</td>\n",
       "      <td>...</td>\n",
       "    </tr>\n",
       "    <tr>\n",
       "      <th>850</th>\n",
       "      <td>212</td>\n",
       "      <td>1.52065</td>\n",
       "      <td>14.36</td>\n",
       "      <td>0.00</td>\n",
       "      <td>2.02</td>\n",
       "      <td>73.42</td>\n",
       "      <td>0.00</td>\n",
       "      <td>8.44</td>\n",
       "      <td>1.64</td>\n",
       "      <td>0.00</td>\n",
       "      <td>7</td>\n",
       "    </tr>\n",
       "    <tr>\n",
       "      <th>851</th>\n",
       "      <td>213</td>\n",
       "      <td>1.51651</td>\n",
       "      <td>14.38</td>\n",
       "      <td>0.00</td>\n",
       "      <td>1.94</td>\n",
       "      <td>73.61</td>\n",
       "      <td>0.00</td>\n",
       "      <td>8.48</td>\n",
       "      <td>1.57</td>\n",
       "      <td>0.00</td>\n",
       "      <td>7</td>\n",
       "    </tr>\n",
       "    <tr>\n",
       "      <th>852</th>\n",
       "      <td>214</td>\n",
       "      <td>1.51711</td>\n",
       "      <td>14.23</td>\n",
       "      <td>0.00</td>\n",
       "      <td>2.08</td>\n",
       "      <td>73.36</td>\n",
       "      <td>0.00</td>\n",
       "      <td>8.62</td>\n",
       "      <td>1.67</td>\n",
       "      <td>0.00</td>\n",
       "      <td>7</td>\n",
       "    </tr>\n",
       "    <tr>\n",
       "      <th>853</th>\n",
       "      <td>2</td>\n",
       "      <td>2.51753</td>\n",
       "      <td>12.57</td>\n",
       "      <td>3.47</td>\n",
       "      <td>1.38</td>\n",
       "      <td>73.39</td>\n",
       "      <td>0.60</td>\n",
       "      <td>8.55</td>\n",
       "      <td>0.00</td>\n",
       "      <td>0.06</td>\n",
       "      <td>1</td>\n",
       "    </tr>\n",
       "    <tr>\n",
       "      <th>854</th>\n",
       "      <td>1</td>\n",
       "      <td>1.51753</td>\n",
       "      <td>12.57</td>\n",
       "      <td>3.47</td>\n",
       "      <td>1.38</td>\n",
       "      <td>73.39</td>\n",
       "      <td>0.60</td>\n",
       "      <td>8.55</td>\n",
       "      <td>0.00</td>\n",
       "      <td>0.06</td>\n",
       "      <td>1</td>\n",
       "    </tr>\n",
       "  </tbody>\n",
       "</table>\n",
       "<p>855 rows × 11 columns</p>\n",
       "</div>"
      ],
      "text/plain": [
       "     index1       RI     Na    Mg    Al     Si     K    Ca    Ba    Fe  Class\n",
       "0       200  1.51761  13.89  3.60  1.36  72.73  0.48  7.83  0.00  0.00      1\n",
       "1         3  1.51618  13.53  3.55  1.54  72.99  0.39  7.78  0.00  0.00      1\n",
       "2         4  1.51766  13.21  3.69  1.29  72.61  0.57  8.22  0.00  0.00      1\n",
       "3         5  1.51742  13.27  3.62  1.24  73.08  0.55  8.07  0.00  0.00      1\n",
       "4         6  1.51596  12.79  3.61  1.62  72.97  0.64  8.07  0.00  0.26      1\n",
       "..      ...      ...    ...   ...   ...    ...   ...   ...   ...   ...    ...\n",
       "850     212  1.52065  14.36  0.00  2.02  73.42  0.00  8.44  1.64  0.00      7\n",
       "851     213  1.51651  14.38  0.00  1.94  73.61  0.00  8.48  1.57  0.00      7\n",
       "852     214  1.51711  14.23  0.00  2.08  73.36  0.00  8.62  1.67  0.00      7\n",
       "853       2  2.51753  12.57  3.47  1.38  73.39  0.60  8.55  0.00  0.06      1\n",
       "854       1  1.51753  12.57  3.47  1.38  73.39  0.60  8.55  0.00  0.06      1\n",
       "\n",
       "[855 rows x 11 columns]"
      ]
     },
     "execution_count": 106,
     "metadata": {},
     "output_type": "execute_result"
    }
   ],
   "source": [
    "pd.read_sql(\"select * from ineuron.glassdata1\",mydb1)"
   ]
  },
  {
   "cell_type": "code",
   "execution_count": 125,
   "id": "2988e67f",
   "metadata": {},
   "outputs": [],
   "source": [
    "cursor.execute('delete from ineuron.glassdata1 where index1=1')"
   ]
  },
  {
   "cell_type": "code",
   "execution_count": 126,
   "id": "3f432a25",
   "metadata": {},
   "outputs": [],
   "source": [
    "mydb1.commit()"
   ]
  },
  {
   "cell_type": "code",
   "execution_count": 127,
   "id": "b915147c",
   "metadata": {},
   "outputs": [
    {
     "data": {
      "text/html": [
       "<div>\n",
       "<style scoped>\n",
       "    .dataframe tbody tr th:only-of-type {\n",
       "        vertical-align: middle;\n",
       "    }\n",
       "\n",
       "    .dataframe tbody tr th {\n",
       "        vertical-align: top;\n",
       "    }\n",
       "\n",
       "    .dataframe thead th {\n",
       "        text-align: right;\n",
       "    }\n",
       "</style>\n",
       "<table border=\"1\" class=\"dataframe\">\n",
       "  <thead>\n",
       "    <tr style=\"text-align: right;\">\n",
       "      <th></th>\n",
       "      <th>index1</th>\n",
       "      <th>RI</th>\n",
       "      <th>Na</th>\n",
       "      <th>Mg</th>\n",
       "      <th>Al</th>\n",
       "      <th>Si</th>\n",
       "      <th>K</th>\n",
       "      <th>Ca</th>\n",
       "      <th>Ba</th>\n",
       "      <th>Fe</th>\n",
       "      <th>Class</th>\n",
       "    </tr>\n",
       "  </thead>\n",
       "  <tbody>\n",
       "    <tr>\n",
       "      <th>0</th>\n",
       "      <td>2</td>\n",
       "      <td>1.51761</td>\n",
       "      <td>13.89</td>\n",
       "      <td>3.60</td>\n",
       "      <td>1.36</td>\n",
       "      <td>72.73</td>\n",
       "      <td>0.48</td>\n",
       "      <td>7.83</td>\n",
       "      <td>0.00</td>\n",
       "      <td>0.00</td>\n",
       "      <td>1</td>\n",
       "    </tr>\n",
       "    <tr>\n",
       "      <th>1</th>\n",
       "      <td>3</td>\n",
       "      <td>1.51618</td>\n",
       "      <td>13.53</td>\n",
       "      <td>3.55</td>\n",
       "      <td>1.54</td>\n",
       "      <td>72.99</td>\n",
       "      <td>0.39</td>\n",
       "      <td>7.78</td>\n",
       "      <td>0.00</td>\n",
       "      <td>0.00</td>\n",
       "      <td>1</td>\n",
       "    </tr>\n",
       "    <tr>\n",
       "      <th>2</th>\n",
       "      <td>4</td>\n",
       "      <td>1.51766</td>\n",
       "      <td>13.21</td>\n",
       "      <td>3.69</td>\n",
       "      <td>1.29</td>\n",
       "      <td>72.61</td>\n",
       "      <td>0.57</td>\n",
       "      <td>8.22</td>\n",
       "      <td>0.00</td>\n",
       "      <td>0.00</td>\n",
       "      <td>1</td>\n",
       "    </tr>\n",
       "    <tr>\n",
       "      <th>3</th>\n",
       "      <td>5</td>\n",
       "      <td>1.51742</td>\n",
       "      <td>13.27</td>\n",
       "      <td>3.62</td>\n",
       "      <td>1.24</td>\n",
       "      <td>73.08</td>\n",
       "      <td>0.55</td>\n",
       "      <td>8.07</td>\n",
       "      <td>0.00</td>\n",
       "      <td>0.00</td>\n",
       "      <td>1</td>\n",
       "    </tr>\n",
       "    <tr>\n",
       "      <th>4</th>\n",
       "      <td>6</td>\n",
       "      <td>1.51596</td>\n",
       "      <td>12.79</td>\n",
       "      <td>3.61</td>\n",
       "      <td>1.62</td>\n",
       "      <td>72.97</td>\n",
       "      <td>0.64</td>\n",
       "      <td>8.07</td>\n",
       "      <td>0.00</td>\n",
       "      <td>0.26</td>\n",
       "      <td>1</td>\n",
       "    </tr>\n",
       "    <tr>\n",
       "      <th>...</th>\n",
       "      <td>...</td>\n",
       "      <td>...</td>\n",
       "      <td>...</td>\n",
       "      <td>...</td>\n",
       "      <td>...</td>\n",
       "      <td>...</td>\n",
       "      <td>...</td>\n",
       "      <td>...</td>\n",
       "      <td>...</td>\n",
       "      <td>...</td>\n",
       "      <td>...</td>\n",
       "    </tr>\n",
       "    <tr>\n",
       "      <th>208</th>\n",
       "      <td>210</td>\n",
       "      <td>1.51623</td>\n",
       "      <td>14.14</td>\n",
       "      <td>0.00</td>\n",
       "      <td>2.88</td>\n",
       "      <td>72.61</td>\n",
       "      <td>0.08</td>\n",
       "      <td>9.18</td>\n",
       "      <td>1.06</td>\n",
       "      <td>0.00</td>\n",
       "      <td>7</td>\n",
       "    </tr>\n",
       "    <tr>\n",
       "      <th>209</th>\n",
       "      <td>211</td>\n",
       "      <td>1.51685</td>\n",
       "      <td>14.92</td>\n",
       "      <td>0.00</td>\n",
       "      <td>1.99</td>\n",
       "      <td>73.06</td>\n",
       "      <td>0.00</td>\n",
       "      <td>8.40</td>\n",
       "      <td>1.59</td>\n",
       "      <td>0.00</td>\n",
       "      <td>7</td>\n",
       "    </tr>\n",
       "    <tr>\n",
       "      <th>210</th>\n",
       "      <td>212</td>\n",
       "      <td>1.52065</td>\n",
       "      <td>14.36</td>\n",
       "      <td>0.00</td>\n",
       "      <td>2.02</td>\n",
       "      <td>73.42</td>\n",
       "      <td>0.00</td>\n",
       "      <td>8.44</td>\n",
       "      <td>1.64</td>\n",
       "      <td>0.00</td>\n",
       "      <td>7</td>\n",
       "    </tr>\n",
       "    <tr>\n",
       "      <th>211</th>\n",
       "      <td>213</td>\n",
       "      <td>1.51651</td>\n",
       "      <td>14.38</td>\n",
       "      <td>0.00</td>\n",
       "      <td>1.94</td>\n",
       "      <td>73.61</td>\n",
       "      <td>0.00</td>\n",
       "      <td>8.48</td>\n",
       "      <td>1.57</td>\n",
       "      <td>0.00</td>\n",
       "      <td>7</td>\n",
       "    </tr>\n",
       "    <tr>\n",
       "      <th>212</th>\n",
       "      <td>214</td>\n",
       "      <td>1.51711</td>\n",
       "      <td>14.23</td>\n",
       "      <td>0.00</td>\n",
       "      <td>2.08</td>\n",
       "      <td>73.36</td>\n",
       "      <td>0.00</td>\n",
       "      <td>8.62</td>\n",
       "      <td>1.67</td>\n",
       "      <td>0.00</td>\n",
       "      <td>7</td>\n",
       "    </tr>\n",
       "  </tbody>\n",
       "</table>\n",
       "<p>213 rows × 11 columns</p>\n",
       "</div>"
      ],
      "text/plain": [
       "     index1       RI     Na    Mg    Al     Si     K    Ca    Ba    Fe  Class\n",
       "0         2  1.51761  13.89  3.60  1.36  72.73  0.48  7.83  0.00  0.00      1\n",
       "1         3  1.51618  13.53  3.55  1.54  72.99  0.39  7.78  0.00  0.00      1\n",
       "2         4  1.51766  13.21  3.69  1.29  72.61  0.57  8.22  0.00  0.00      1\n",
       "3         5  1.51742  13.27  3.62  1.24  73.08  0.55  8.07  0.00  0.00      1\n",
       "4         6  1.51596  12.79  3.61  1.62  72.97  0.64  8.07  0.00  0.26      1\n",
       "..      ...      ...    ...   ...   ...    ...   ...   ...   ...   ...    ...\n",
       "208     210  1.51623  14.14  0.00  2.88  72.61  0.08  9.18  1.06  0.00      7\n",
       "209     211  1.51685  14.92  0.00  1.99  73.06  0.00  8.40  1.59  0.00      7\n",
       "210     212  1.52065  14.36  0.00  2.02  73.42  0.00  8.44  1.64  0.00      7\n",
       "211     213  1.51651  14.38  0.00  1.94  73.61  0.00  8.48  1.57  0.00      7\n",
       "212     214  1.51711  14.23  0.00  2.08  73.36  0.00  8.62  1.67  0.00      7\n",
       "\n",
       "[213 rows x 11 columns]"
      ]
     },
     "execution_count": 127,
     "metadata": {},
     "output_type": "execute_result"
    }
   ],
   "source": [
    "pd.read_sql(\"select * from ineuron.glassdata1\",mydb1)"
   ]
  },
  {
   "cell_type": "code",
   "execution_count": 128,
   "id": "2b747358",
   "metadata": {},
   "outputs": [],
   "source": [
    "cursor.execute('update ineuron.glassdata1 set index1  =  200 where index1 =2 ')"
   ]
  },
  {
   "cell_type": "code",
   "execution_count": 129,
   "id": "d924c9f9",
   "metadata": {},
   "outputs": [],
   "source": [
    "mydb1.commit()"
   ]
  },
  {
   "cell_type": "code",
   "execution_count": 92,
   "id": "f7ebdb12",
   "metadata": {},
   "outputs": [
    {
     "data": {
      "text/plain": [
       "'C:\\\\Users\\\\sayya'"
      ]
     },
     "execution_count": 92,
     "metadata": {},
     "output_type": "execute_result"
    }
   ],
   "source": [
    "pwd()"
   ]
  },
  {
   "cell_type": "markdown",
   "id": "b6e241aa",
   "metadata": {},
   "source": [
    "# Churn_modeling data"
   ]
  },
  {
   "cell_type": "code",
   "execution_count": 158,
   "id": "5aa2e3dc",
   "metadata": {},
   "outputs": [],
   "source": [
    "import csv\n",
    "import mysql.connector as  con \n",
    "db=con.connect(host='localhost',user=\"root\",passwd=\"Riyaz@4144\",database=\"ineuron\")"
   ]
  },
  {
   "cell_type": "code",
   "execution_count": 160,
   "id": "333e2f6c",
   "metadata": {},
   "outputs": [],
   "source": [
    "cursor= db.cursor()"
   ]
  },
  {
   "cell_type": "code",
   "execution_count": 161,
   "id": "533a201b",
   "metadata": {},
   "outputs": [
    {
     "data": {
      "text/plain": [
       "<mysql.connector.connection_cext.CMySQLConnection at 0x23984fe5c40>"
      ]
     },
     "execution_count": 161,
     "metadata": {},
     "output_type": "execute_result"
    }
   ],
   "source": [
    "db"
   ]
  },
  {
   "cell_type": "code",
   "execution_count": 162,
   "id": "e48aed16",
   "metadata": {},
   "outputs": [],
   "source": [
    "A1='create table Churn_model(RowNumber INT(100),CustomerId INT(100),Surname CHAR(100),CreditScore INT(100),Geography VARCHAR(100),Gender VARCHAR(200),Age INT(20),Tenure INT(100),Balance FLOAT(20,10),NumOfProducts INT(100),HasCrCard INT(50),IsActiveMember INT(20),EstimatedSalary FLOAT(20,10),Exited INT (10))'"
   ]
  },
  {
   "cell_type": "code",
   "execution_count": 163,
   "id": "bb06be10",
   "metadata": {},
   "outputs": [
    {
     "ename": "ProgrammingError",
     "evalue": "1050 (42S01): Table 'churn_model' already exists",
     "output_type": "error",
     "traceback": [
      "\u001b[1;31m---------------------------------------------------------------------------\u001b[0m",
      "\u001b[1;31mMySQLInterfaceError\u001b[0m                       Traceback (most recent call last)",
      "\u001b[1;32m~\\anaconda3\\lib\\site-packages\\mysql\\connector\\connection_cext.py\u001b[0m in \u001b[0;36mcmd_query\u001b[1;34m(self, query, raw, buffered, raw_as_string)\u001b[0m\n\u001b[0;32m    554\u001b[0m                 \u001b[0mquery\u001b[0m \u001b[1;33m=\u001b[0m \u001b[0mquery\u001b[0m\u001b[1;33m.\u001b[0m\u001b[0mencode\u001b[0m\u001b[1;33m(\u001b[0m\u001b[1;34m\"utf-8\"\u001b[0m\u001b[1;33m)\u001b[0m\u001b[1;33m\u001b[0m\u001b[1;33m\u001b[0m\u001b[0m\n\u001b[1;32m--> 555\u001b[1;33m             self._cmysql.query(\n\u001b[0m\u001b[0;32m    556\u001b[0m                 \u001b[0mquery\u001b[0m\u001b[1;33m,\u001b[0m\u001b[1;33m\u001b[0m\u001b[1;33m\u001b[0m\u001b[0m\n",
      "\u001b[1;31mMySQLInterfaceError\u001b[0m: Table 'churn_model' already exists",
      "\nThe above exception was the direct cause of the following exception:\n",
      "\u001b[1;31mProgrammingError\u001b[0m                          Traceback (most recent call last)",
      "\u001b[1;32m~\\AppData\\Local\\Temp/ipykernel_21312/99541685.py\u001b[0m in \u001b[0;36m<module>\u001b[1;34m\u001b[0m\n\u001b[0;32m      1\u001b[0m \u001b[0mcursor\u001b[0m\u001b[1;33m=\u001b[0m\u001b[0mdb\u001b[0m\u001b[1;33m.\u001b[0m\u001b[0mcursor\u001b[0m\u001b[1;33m(\u001b[0m\u001b[1;33m)\u001b[0m\u001b[1;33m\u001b[0m\u001b[1;33m\u001b[0m\u001b[0m\n\u001b[1;32m----> 2\u001b[1;33m \u001b[0mcursor\u001b[0m\u001b[1;33m.\u001b[0m\u001b[0mexecute\u001b[0m\u001b[1;33m(\u001b[0m\u001b[0mA1\u001b[0m\u001b[1;33m)\u001b[0m\u001b[1;33m\u001b[0m\u001b[1;33m\u001b[0m\u001b[0m\n\u001b[0m",
      "\u001b[1;32m~\\anaconda3\\lib\\site-packages\\mysql\\connector\\cursor_cext.py\u001b[0m in \u001b[0;36mexecute\u001b[1;34m(self, operation, params, multi)\u001b[0m\n\u001b[0;32m    274\u001b[0m \u001b[1;33m\u001b[0m\u001b[0m\n\u001b[0;32m    275\u001b[0m         \u001b[1;32mtry\u001b[0m\u001b[1;33m:\u001b[0m\u001b[1;33m\u001b[0m\u001b[1;33m\u001b[0m\u001b[0m\n\u001b[1;32m--> 276\u001b[1;33m             result = self._cnx.cmd_query(\n\u001b[0m\u001b[0;32m    277\u001b[0m                 \u001b[0mstmt\u001b[0m\u001b[1;33m,\u001b[0m\u001b[1;33m\u001b[0m\u001b[1;33m\u001b[0m\u001b[0m\n\u001b[0;32m    278\u001b[0m                 \u001b[0mraw\u001b[0m\u001b[1;33m=\u001b[0m\u001b[0mself\u001b[0m\u001b[1;33m.\u001b[0m\u001b[0m_raw\u001b[0m\u001b[1;33m,\u001b[0m\u001b[1;33m\u001b[0m\u001b[1;33m\u001b[0m\u001b[0m\n",
      "\u001b[1;32m~\\anaconda3\\lib\\site-packages\\mysql\\connector\\connection_cext.py\u001b[0m in \u001b[0;36mcmd_query\u001b[1;34m(self, query, raw, buffered, raw_as_string)\u001b[0m\n\u001b[0;32m    561\u001b[0m             )\n\u001b[0;32m    562\u001b[0m         \u001b[1;32mexcept\u001b[0m \u001b[0mMySQLInterfaceError\u001b[0m \u001b[1;32mas\u001b[0m \u001b[0merr\u001b[0m\u001b[1;33m:\u001b[0m\u001b[1;33m\u001b[0m\u001b[1;33m\u001b[0m\u001b[0m\n\u001b[1;32m--> 563\u001b[1;33m             raise get_mysql_exception(\n\u001b[0m\u001b[0;32m    564\u001b[0m                 \u001b[0merr\u001b[0m\u001b[1;33m.\u001b[0m\u001b[0merrno\u001b[0m\u001b[1;33m,\u001b[0m \u001b[0mmsg\u001b[0m\u001b[1;33m=\u001b[0m\u001b[0merr\u001b[0m\u001b[1;33m.\u001b[0m\u001b[0mmsg\u001b[0m\u001b[1;33m,\u001b[0m \u001b[0msqlstate\u001b[0m\u001b[1;33m=\u001b[0m\u001b[0merr\u001b[0m\u001b[1;33m.\u001b[0m\u001b[0msqlstate\u001b[0m\u001b[1;33m\u001b[0m\u001b[1;33m\u001b[0m\u001b[0m\n\u001b[0;32m    565\u001b[0m             ) from err\n",
      "\u001b[1;31mProgrammingError\u001b[0m: 1050 (42S01): Table 'churn_model' already exists"
     ]
    }
   ],
   "source": [
    "cursor=db.cursor()\n",
    "cursor.execute(A1)"
   ]
  },
  {
   "cell_type": "code",
   "execution_count": 165,
   "id": "7df17c96",
   "metadata": {},
   "outputs": [
    {
     "name": "stdout",
     "output_type": "stream",
     "text": [
      "RowNumber,CustomerId,Surname,CreditScore,Geography,Gender,Age,Tenure,Balance,NumOfProducts,HasCrCard,IsActiveMember,EstimatedSalary,Exited\n",
      "1,15634602,Hargrave,619,France,Female,42,2,0,1,1,1,101348.88,1\n"
     ]
    },
    {
     "ename": "ProgrammingError",
     "evalue": "1054 (42S22): Unknown column 'Hargrave' in 'field list'",
     "output_type": "error",
     "traceback": [
      "\u001b[1;31m---------------------------------------------------------------------------\u001b[0m",
      "\u001b[1;31mMySQLInterfaceError\u001b[0m                       Traceback (most recent call last)",
      "\u001b[1;32m~\\anaconda3\\lib\\site-packages\\mysql\\connector\\connection_cext.py\u001b[0m in \u001b[0;36mcmd_query\u001b[1;34m(self, query, raw, buffered, raw_as_string)\u001b[0m\n\u001b[0;32m    554\u001b[0m                 \u001b[0mquery\u001b[0m \u001b[1;33m=\u001b[0m \u001b[0mquery\u001b[0m\u001b[1;33m.\u001b[0m\u001b[0mencode\u001b[0m\u001b[1;33m(\u001b[0m\u001b[1;34m\"utf-8\"\u001b[0m\u001b[1;33m)\u001b[0m\u001b[1;33m\u001b[0m\u001b[1;33m\u001b[0m\u001b[0m\n\u001b[1;32m--> 555\u001b[1;33m             self._cmysql.query(\n\u001b[0m\u001b[0;32m    556\u001b[0m                 \u001b[0mquery\u001b[0m\u001b[1;33m,\u001b[0m\u001b[1;33m\u001b[0m\u001b[1;33m\u001b[0m\u001b[0m\n",
      "\u001b[1;31mMySQLInterfaceError\u001b[0m: Unknown column 'Hargrave' in 'field list'",
      "\nThe above exception was the direct cause of the following exception:\n",
      "\u001b[1;31mProgrammingError\u001b[0m                          Traceback (most recent call last)",
      "\u001b[1;32m~\\AppData\\Local\\Temp/ipykernel_21312/2817556411.py\u001b[0m in \u001b[0;36m<module>\u001b[1;34m\u001b[0m\n\u001b[0;32m      4\u001b[0m         \u001b[1;32mfor\u001b[0m \u001b[0mi\u001b[0m \u001b[1;32min\u001b[0m \u001b[1;33m(\u001b[0m\u001b[0mlines\u001b[0m\u001b[1;33m[\u001b[0m\u001b[1;36m1\u001b[0m\u001b[1;33m]\u001b[0m\u001b[1;33m)\u001b[0m\u001b[1;33m:\u001b[0m\u001b[1;33m\u001b[0m\u001b[1;33m\u001b[0m\u001b[0m\n\u001b[0;32m      5\u001b[0m             \u001b[0mprint\u001b[0m\u001b[1;33m(\u001b[0m\u001b[0mi\u001b[0m\u001b[1;33m)\u001b[0m\u001b[1;33m\u001b[0m\u001b[1;33m\u001b[0m\u001b[0m\n\u001b[1;32m----> 6\u001b[1;33m             \u001b[0mcursor\u001b[0m\u001b[1;33m.\u001b[0m\u001b[0mexecute\u001b[0m\u001b[1;33m(\u001b[0m\u001b[1;34m'insert into ineuron.Churn_model values ({values})'\u001b[0m\u001b[1;33m.\u001b[0m\u001b[0mformat\u001b[0m\u001b[1;33m(\u001b[0m\u001b[0mvalues\u001b[0m \u001b[1;33m=\u001b[0m \u001b[1;33m(\u001b[0m\u001b[0mi\u001b[0m\u001b[1;33m)\u001b[0m\u001b[1;33m)\u001b[0m\u001b[1;33m)\u001b[0m\u001b[1;33m\u001b[0m\u001b[1;33m\u001b[0m\u001b[0m\n\u001b[0m\u001b[0;32m      7\u001b[0m     \u001b[0mdb\u001b[0m\u001b[1;33m.\u001b[0m\u001b[0mcommit\u001b[0m\u001b[1;33m(\u001b[0m\u001b[1;33m)\u001b[0m\u001b[1;33m\u001b[0m\u001b[1;33m\u001b[0m\u001b[0m\n\u001b[0;32m      8\u001b[0m \u001b[1;33m\u001b[0m\u001b[0m\n",
      "\u001b[1;32m~\\anaconda3\\lib\\site-packages\\mysql\\connector\\cursor_cext.py\u001b[0m in \u001b[0;36mexecute\u001b[1;34m(self, operation, params, multi)\u001b[0m\n\u001b[0;32m    274\u001b[0m \u001b[1;33m\u001b[0m\u001b[0m\n\u001b[0;32m    275\u001b[0m         \u001b[1;32mtry\u001b[0m\u001b[1;33m:\u001b[0m\u001b[1;33m\u001b[0m\u001b[1;33m\u001b[0m\u001b[0m\n\u001b[1;32m--> 276\u001b[1;33m             result = self._cnx.cmd_query(\n\u001b[0m\u001b[0;32m    277\u001b[0m                 \u001b[0mstmt\u001b[0m\u001b[1;33m,\u001b[0m\u001b[1;33m\u001b[0m\u001b[1;33m\u001b[0m\u001b[0m\n\u001b[0;32m    278\u001b[0m                 \u001b[0mraw\u001b[0m\u001b[1;33m=\u001b[0m\u001b[0mself\u001b[0m\u001b[1;33m.\u001b[0m\u001b[0m_raw\u001b[0m\u001b[1;33m,\u001b[0m\u001b[1;33m\u001b[0m\u001b[1;33m\u001b[0m\u001b[0m\n",
      "\u001b[1;32m~\\anaconda3\\lib\\site-packages\\mysql\\connector\\connection_cext.py\u001b[0m in \u001b[0;36mcmd_query\u001b[1;34m(self, query, raw, buffered, raw_as_string)\u001b[0m\n\u001b[0;32m    561\u001b[0m             )\n\u001b[0;32m    562\u001b[0m         \u001b[1;32mexcept\u001b[0m \u001b[0mMySQLInterfaceError\u001b[0m \u001b[1;32mas\u001b[0m \u001b[0merr\u001b[0m\u001b[1;33m:\u001b[0m\u001b[1;33m\u001b[0m\u001b[1;33m\u001b[0m\u001b[0m\n\u001b[1;32m--> 563\u001b[1;33m             raise get_mysql_exception(\n\u001b[0m\u001b[0;32m    564\u001b[0m                 \u001b[0merr\u001b[0m\u001b[1;33m.\u001b[0m\u001b[0merrno\u001b[0m\u001b[1;33m,\u001b[0m \u001b[0mmsg\u001b[0m\u001b[1;33m=\u001b[0m\u001b[0merr\u001b[0m\u001b[1;33m.\u001b[0m\u001b[0mmsg\u001b[0m\u001b[1;33m,\u001b[0m \u001b[0msqlstate\u001b[0m\u001b[1;33m=\u001b[0m\u001b[0merr\u001b[0m\u001b[1;33m.\u001b[0m\u001b[0msqlstate\u001b[0m\u001b[1;33m\u001b[0m\u001b[1;33m\u001b[0m\u001b[0m\n\u001b[0;32m    565\u001b[0m             ) from err\n",
      "\u001b[1;31mProgrammingError\u001b[0m: 1054 (42S22): Unknown column 'Hargrave' in 'field list'"
     ]
    }
   ],
   "source": [
    "with open('Churn_Model','r') as f:\n",
    "    churn_data=csv.reader(f , delimiter='\\n')\n",
    "    for lines in enumerate(churn_data):\n",
    "        for i in (lines[1]):\n",
    "            print(i)\n",
    "            cursor.execute('insert into ineuron.Churn_model values ({values})'.format(values = (i)))\n",
    "    db.commit() \n",
    "    "
   ]
  },
  {
   "cell_type": "code",
   "execution_count": null,
   "id": "981a6fc1",
   "metadata": {},
   "outputs": [],
   "source": []
  }
 ],
 "metadata": {
  "kernelspec": {
   "display_name": "Python 3 (ipykernel)",
   "language": "python",
   "name": "python3"
  },
  "language_info": {
   "codemirror_mode": {
    "name": "ipython",
    "version": 3
   },
   "file_extension": ".py",
   "mimetype": "text/x-python",
   "name": "python",
   "nbconvert_exporter": "python",
   "pygments_lexer": "ipython3",
   "version": "3.9.7"
  }
 },
 "nbformat": 4,
 "nbformat_minor": 5
}
